{
 "cells": [
  {
   "cell_type": "code",
   "execution_count": 3,
   "metadata": {
    "collapsed": true
   },
   "outputs": [],
   "source": [
    "#importing required libraries\n",
    "import numpy as np\n",
    "import pandas as pd\n",
    "import matplotlib.pyplot as plt\n",
    "import seaborn as sns\n",
    "%matplotlib inline\n",
    "\n",
    "import sqlite3\n",
    "import pickle\n",
    "\n",
    "from sklearn.feature_extraction.text import CountVectorizer\n",
    "from sklearn.manifold import TSNE\n",
    "import gensim\n",
    "\n",
    "from sklearn.preprocessing import StandardScaler\n",
    "from sklearn.cross_validation import train_test_split\n",
    "from sklearn.cross_validation import cross_val_score\n",
    "from sklearn.neighbors import KNeighborsClassifier\n",
    "from matplotlib.colors import ListedColormap\n",
    "from sklearn.metrics import accuracy_score"
   ]
  },
  {
   "cell_type": "code",
   "execution_count": 4,
   "metadata": {},
   "outputs": [
    {
     "data": {
      "text/html": [
       "<div>\n",
       "<style>\n",
       "    .dataframe thead tr:only-child th {\n",
       "        text-align: right;\n",
       "    }\n",
       "\n",
       "    .dataframe thead th {\n",
       "        text-align: left;\n",
       "    }\n",
       "\n",
       "    .dataframe tbody tr th {\n",
       "        vertical-align: top;\n",
       "    }\n",
       "</style>\n",
       "<table border=\"1\" class=\"dataframe\">\n",
       "  <thead>\n",
       "    <tr style=\"text-align: right;\">\n",
       "      <th></th>\n",
       "      <th>index</th>\n",
       "      <th>Id</th>\n",
       "      <th>ProductId</th>\n",
       "      <th>UserId</th>\n",
       "      <th>ProfileName</th>\n",
       "      <th>HelpfulnessNumerator</th>\n",
       "      <th>HelpfulnessDenominator</th>\n",
       "      <th>Score</th>\n",
       "      <th>Time</th>\n",
       "      <th>Summary</th>\n",
       "      <th>Text</th>\n",
       "      <th>cleaned_text</th>\n",
       "      <th>cleaned_text_nonstem</th>\n",
       "    </tr>\n",
       "  </thead>\n",
       "  <tbody>\n",
       "    <tr>\n",
       "      <th>0</th>\n",
       "      <td>93425</td>\n",
       "      <td>101582</td>\n",
       "      <td>B001BM368E</td>\n",
       "      <td>A2VFEY7LF1P0XC</td>\n",
       "      <td>claire</td>\n",
       "      <td>0</td>\n",
       "      <td>0</td>\n",
       "      <td>1</td>\n",
       "      <td>1328659200</td>\n",
       "      <td>Love this starter kit</td>\n",
       "      <td>We started our little guy on solid food with E...</td>\n",
       "      <td>start littl guy solid food earth best veggi lo...</td>\n",
       "      <td>started little guy solid food earths best vegg...</td>\n",
       "    </tr>\n",
       "    <tr>\n",
       "      <th>1</th>\n",
       "      <td>486287</td>\n",
       "      <td>525851</td>\n",
       "      <td>B0000BYDG9</td>\n",
       "      <td>A1T203AFVJI6UD</td>\n",
       "      <td>Dee Flanagan \"beanie nut\"</td>\n",
       "      <td>0</td>\n",
       "      <td>0</td>\n",
       "      <td>0</td>\n",
       "      <td>1261526400</td>\n",
       "      <td>Less than useless, sorry I wasted my money!</td>\n",
       "      <td>I do not reccommend this product...Moths flew ...</td>\n",
       "      <td>not reccommend product moth flew right kept go...</td>\n",
       "      <td>not reccommend product moths flew right kept g...</td>\n",
       "    </tr>\n",
       "    <tr>\n",
       "      <th>2</th>\n",
       "      <td>403154</td>\n",
       "      <td>435932</td>\n",
       "      <td>B005YBGZG8</td>\n",
       "      <td>A3OKJGVP7U00A</td>\n",
       "      <td>Tman</td>\n",
       "      <td>0</td>\n",
       "      <td>0</td>\n",
       "      <td>1</td>\n",
       "      <td>1340064000</td>\n",
       "      <td>Pistachio addict...</td>\n",
       "      <td>Hello, my name is Tom, and I'm a pistachio add...</td>\n",
       "      <td>hello name tom pistachio addict cant help exce...</td>\n",
       "      <td>hello name tom pistachio addict cant help exce...</td>\n",
       "    </tr>\n",
       "    <tr>\n",
       "      <th>3</th>\n",
       "      <td>270954</td>\n",
       "      <td>293709</td>\n",
       "      <td>B0007SNZP2</td>\n",
       "      <td>A1G6A8RNJYJ8BE</td>\n",
       "      <td>WitzerAZ \"WitzerAZ\"</td>\n",
       "      <td>0</td>\n",
       "      <td>0</td>\n",
       "      <td>1</td>\n",
       "      <td>1327708800</td>\n",
       "      <td>Karo Pancake Syrup-It's a southern thang!</td>\n",
       "      <td>I had received damaged bottles and had written...</td>\n",
       "      <td>receiv damag bottl written review complain top...</td>\n",
       "      <td>received damaged bottles written review compla...</td>\n",
       "    </tr>\n",
       "    <tr>\n",
       "      <th>4</th>\n",
       "      <td>345955</td>\n",
       "      <td>374254</td>\n",
       "      <td>B004HZI3GW</td>\n",
       "      <td>AQKQH3I5WLPFQ</td>\n",
       "      <td>H.T.S.</td>\n",
       "      <td>0</td>\n",
       "      <td>0</td>\n",
       "      <td>0</td>\n",
       "      <td>1347580800</td>\n",
       "      <td>gelatin is not an all natural ingredient</td>\n",
       "      <td>gelatin is not an all natural ingredient. for ...</td>\n",
       "      <td>gelatin not natur ingredi wish product like st...</td>\n",
       "      <td>gelatin not natural ingredient wish products l...</td>\n",
       "    </tr>\n",
       "  </tbody>\n",
       "</table>\n",
       "</div>"
      ],
      "text/plain": [
       "    index      Id   ProductId          UserId                ProfileName  \\\n",
       "0   93425  101582  B001BM368E  A2VFEY7LF1P0XC                     claire   \n",
       "1  486287  525851  B0000BYDG9  A1T203AFVJI6UD  Dee Flanagan \"beanie nut\"   \n",
       "2  403154  435932  B005YBGZG8   A3OKJGVP7U00A                       Tman   \n",
       "3  270954  293709  B0007SNZP2  A1G6A8RNJYJ8BE        WitzerAZ \"WitzerAZ\"   \n",
       "4  345955  374254  B004HZI3GW   AQKQH3I5WLPFQ                     H.T.S.   \n",
       "\n",
       "   HelpfulnessNumerator  HelpfulnessDenominator  Score        Time  \\\n",
       "0                     0                       0      1  1328659200   \n",
       "1                     0                       0      0  1261526400   \n",
       "2                     0                       0      1  1340064000   \n",
       "3                     0                       0      1  1327708800   \n",
       "4                     0                       0      0  1347580800   \n",
       "\n",
       "                                       Summary  \\\n",
       "0                        Love this starter kit   \n",
       "1  Less than useless, sorry I wasted my money!   \n",
       "2                          Pistachio addict...   \n",
       "3    Karo Pancake Syrup-It's a southern thang!   \n",
       "4     gelatin is not an all natural ingredient   \n",
       "\n",
       "                                                Text  \\\n",
       "0  We started our little guy on solid food with E...   \n",
       "1  I do not reccommend this product...Moths flew ...   \n",
       "2  Hello, my name is Tom, and I'm a pistachio add...   \n",
       "3  I had received damaged bottles and had written...   \n",
       "4  gelatin is not an all natural ingredient. for ...   \n",
       "\n",
       "                                        cleaned_text  \\\n",
       "0  start littl guy solid food earth best veggi lo...   \n",
       "1  not reccommend product moth flew right kept go...   \n",
       "2  hello name tom pistachio addict cant help exce...   \n",
       "3  receiv damag bottl written review complain top...   \n",
       "4  gelatin not natur ingredi wish product like st...   \n",
       "\n",
       "                                cleaned_text_nonstem  \n",
       "0  started little guy solid food earths best vegg...  \n",
       "1  not reccommend product moths flew right kept g...  \n",
       "2  hello name tom pistachio addict cant help exce...  \n",
       "3  received damaged bottles written review compla...  \n",
       "4  gelatin not natural ingredient wish products l...  "
      ]
     },
     "execution_count": 4,
     "metadata": {},
     "output_type": "execute_result"
    }
   ],
   "source": [
    "#read the data set\n",
    "conn=sqlite3.connect('final.sqlite')\n",
    "final=pd.read_sql_query(\"\"\"select * from Reviews\"\"\",conn)\n",
    "conn.close()\n",
    "final.head()"
   ]
  },
  {
   "cell_type": "markdown",
   "metadata": {},
   "source": [
    "* Ignore the last column :- cleaned_text_nonstem(its just cleaned_text without stemming)"
   ]
  },
  {
   "cell_type": "code",
   "execution_count": 5,
   "metadata": {},
   "outputs": [
    {
     "data": {
      "text/plain": [
       "(364171, 71691)"
      ]
     },
     "execution_count": 5,
     "metadata": {},
     "output_type": "execute_result"
    }
   ],
   "source": [
    "bow_vec=CountVectorizer()\n",
    "bow=bow_vec.fit_transform(final['cleaned_text'])\n",
    "bow.shape"
   ]
  },
  {
   "cell_type": "code",
   "execution_count": 6,
   "metadata": {},
   "outputs": [
    {
     "name": "stdout",
     "output_type": "stream",
     "text": [
      "[[0 0 0 ..., 0 0 0]\n",
      " [0 0 0 ..., 0 0 0]\n",
      " [0 0 0 ..., 0 0 0]\n",
      " [0 0 0 ..., 0 0 0]\n",
      " [0 0 0 ..., 0 0 0]]\n",
      "[1 0 1 1 0]\n"
     ]
    }
   ],
   "source": [
    "#sampling the dataset\n",
    "X=bow[:2500,:].toarray()\n",
    "Y=final.iloc[:2500,7].values\n",
    "print(X[:5,:])\n",
    "print(Y[:5])"
   ]
  },
  {
   "cell_type": "code",
   "execution_count": 7,
   "metadata": {},
   "outputs": [
    {
     "data": {
      "text/plain": [
       "numpy.ndarray"
      ]
     },
     "execution_count": 7,
     "metadata": {},
     "output_type": "execute_result"
    }
   ],
   "source": [
    "type(Y)"
   ]
  },
  {
   "cell_type": "code",
   "execution_count": 8,
   "metadata": {},
   "outputs": [
    {
     "data": {
      "text/plain": [
       "numpy.ndarray"
      ]
     },
     "execution_count": 8,
     "metadata": {},
     "output_type": "execute_result"
    }
   ],
   "source": [
    "type(X)"
   ]
  },
  {
   "cell_type": "code",
   "execution_count": 9,
   "metadata": {},
   "outputs": [
    {
     "name": "stderr",
     "output_type": "stream",
     "text": [
      "C:\\Users\\vipul\\Anaconda3\\lib\\site-packages\\sklearn\\utils\\validation.py:475: DataConversionWarning: Data with input dtype int64 was converted to float64 by StandardScaler.\n",
      "  warnings.warn(msg, DataConversionWarning)\n"
     ]
    },
    {
     "data": {
      "text/plain": [
       "array([[ 0.,  0.,  0., ...,  0.,  0.,  0.],\n",
       "       [ 0.,  0.,  0., ...,  0.,  0.,  0.],\n",
       "       [ 0.,  0.,  0., ...,  0.,  0.,  0.],\n",
       "       [ 0.,  0.,  0., ...,  0.,  0.,  0.],\n",
       "       [ 0.,  0.,  0., ...,  0.,  0.,  0.]])"
      ]
     },
     "execution_count": 9,
     "metadata": {},
     "output_type": "execute_result"
    }
   ],
   "source": [
    "s=StandardScaler()\n",
    "X=s.fit_transform(X)\n",
    "X[:5,:]"
   ]
  },
  {
   "cell_type": "markdown",
   "metadata": {},
   "source": [
    "* Now lets present dataset to the model in three different ways and observe the accuracy"
   ]
  },
  {
   "cell_type": "markdown",
   "metadata": {},
   "source": [
    "## KNN"
   ]
  },
  {
   "cell_type": "code",
   "execution_count": 9,
   "metadata": {
    "collapsed": true
   },
   "outputs": [],
   "source": [
    "#train-test split\n",
    "x_train,x_test,y_train,y_test=train_test_split(X,Y,test_size=0.35,random_state=123)#testsize is 0<x<1"
   ]
  },
  {
   "cell_type": "markdown",
   "metadata": {},
   "source": [
    "* Code to find value of k"
   ]
  },
  {
   "cell_type": "code",
   "execution_count": null,
   "metadata": {
    "collapsed": true,
    "scrolled": true
   },
   "outputs": [],
   "source": [
    "k_list=list(range(1,50,2))\n",
    "acc_lst=[] #list of all the accuracies\n",
    "for k in k_list:\n",
    "    classifier=KNeighborsClassifier(n_neighbors=k) \n",
    "    classifier.fit(x_train,y_train) #fitting the model on every K\n",
    "    y_pred=classifier.predict(x_test) #predicting the values\n",
    "    acc_lst.append(accuracy_score(y_test,y_pred,normalize=True)*float(100)) #appending the accuracies of every k into the list"
   ]
  },
  {
   "cell_type": "code",
   "execution_count": 12,
   "metadata": {},
   "outputs": [
    {
     "name": "stdout",
     "output_type": "stream",
     "text": [
      "\n",
      "the optimal no. of neighbors is 5.\n"
     ]
    },
    {
     "data": {
      "image/png": "[encoded data removed]",
      "text/plain": [
       "<matplotlib.figure.Figure at 0x27e2acdd160>"
      ]
     },
     "metadata": {},
     "output_type": "display_data"
    }
   ],
   "source": [
    "optimal_k=k_list[acc_lst.index(max(acc_lst))]\n",
    "print('\\nthe optimal no. of neighbors is %d.'% optimal_k)\n",
    "plt.plot(k_list,acc_lst)\n",
    "plt.xlabel('k-values')\n",
    "plt.ylabel('test accuracy')\n",
    "plt.ylim(70,100)\n",
    "plt.show()"
   ]
  },
  {
   "cell_type": "code",
   "execution_count": 13,
   "metadata": {},
   "outputs": [
    {
     "data": {
      "text/plain": [
       "KNeighborsClassifier(algorithm='auto', leaf_size=30, metric='minkowski',\n",
       "           metric_params=None, n_jobs=1, n_neighbors=5, p=2,\n",
       "           weights='uniform')"
      ]
     },
     "execution_count": 13,
     "metadata": {},
     "output_type": "execute_result"
    }
   ],
   "source": [
    "# fitting the model on train data (optimal K)\n",
    "classifier=KNeighborsClassifier(n_neighbors=optimal_k)\n",
    "classifier.fit(x_train,y_train)"
   ]
  },
  {
   "cell_type": "code",
   "execution_count": 14,
   "metadata": {
    "collapsed": true
   },
   "outputs": [],
   "source": [
    "# predicting \n",
    "y_pred=classt datsifier.predict(x_test)"
   ]
  },
  {
   "cell_type": "markdown",
   "metadata": {},
   "source": [
    "**accuracy**"
   ]
  },
  {
   "cell_type": "code",
   "execution_count": 15,
   "metadata": {},
   "outputs": [
    {
     "data": {
      "text/plain": [
       "83.771428571428572"
      ]
     },
     "execution_count": 15,
     "metadata": {},
     "output_type": "execute_result"
    }
   ],
   "source": [
    "acc=accuracy_score(y_test,y_pred,normalize=True)*float(100)\n",
    "acc"
   ]
  },
  {
   "cell_type": "markdown",
   "metadata": {},
   "source": [
    "## CV"
   ]
  },
  {
   "cell_type": "code",
   "execution_count": 8,
   "metadata": {
    "collapsed": true
   },
   "outputs": [],
   "source": [
    "#train-CV-test split\n",
    "x_1,x_test,y_1,y_test=train_test_split(X,Y,test_size=0.35,random_state=123)\n",
    "x_train,x_cv,y_train,y_cv=train_test_split(x_1,y_1,test_size=0.35,random_state=123)"
   ]
  },
  {
   "cell_type": "markdown",
   "metadata": {},
   "source": [
    "* Function to find optimal k"
   ]
  },
  {
   "cell_type": "code",
   "execution_count": null,
   "metadata": {
    "collapsed": true
   },
   "outputs": [],
   "source": [
    "k_list=list(range(1,50,2))\n",
    "acc_list=[]\n",
    "for k in k_list:\n",
    "    classifier = KNeighborsClassifier(n_neighbors=k)\n",
    "    classifier.fit(x_train,y_train)\n",
    "    y_pred=classifier.predict(x_cv)\n",
    "    acc_list.append(accuracy_score(y_cv,y_pred,normalize=True)*float(100))\n",
    "\n",
    "optimal_k=k_list[acc_list.index(max(acc_list))]"
   ]
  },
  {
   "cell_type": "code",
   "execution_count": 11,
   "metadata": {},
   "outputs": [
    {
     "name": "stdout",
     "output_type": "stream",
     "text": [
      "the optimal value of k is 3\n"
     ]
    },
    {
     "data": {
      "image/png": "[encoded data removed]",
      "text/plain": [
       "<matplotlib.figure.Figure at 0x24c5d350358>"
      ]
     },
     "metadata": {},
     "output_type": "display_data"
    }
   ],
   "source": [
    "print('the optimal value of k is %d'% optimal_k)\n",
    "plt.plot(k_list,acc_list)\n",
    "plt.xlabel(\"k values\")\n",
    "plt.ylabel(\"CV accuracy\")\n",
    "plt.ylim(70,100)\n",
    "plt.show()"
   ]
  },
  {
   "cell_type": "code",
   "execution_count": 12,
   "metadata": {},
   "outputs": [
    {
     "data": {
      "text/plain": [
       "KNeighborsClassifier(algorithm='auto', leaf_size=30, metric='minkowski',\n",
       "           metric_params=None, n_jobs=1, n_neighbors=3, p=2,\n",
       "           weights='uniform')"
      ]
     },
     "execution_count": 12,
     "metadata": {},
     "output_type": "execute_result"
    }
   ],
   "source": [
    "classifier=KNeighborsClassifier(n_neighbors=optimal_k)\n",
    "classifier.fit(x_train,y_train)"
   ]
  },
  {
   "cell_type": "code",
   "execution_count": 13,
   "metadata": {
    "collapsed": true
   },
   "outputs": [],
   "source": [
    "y_pred=classifier.predict(x_test)"
   ]
  },
  {
   "cell_type": "code",
   "execution_count": 14,
   "metadata": {},
   "outputs": [
    {
     "data": {
      "text/plain": [
       "83.542857142857144"
      ]
     },
     "execution_count": 14,
     "metadata": {},
     "output_type": "execute_result"
    }
   ],
   "source": [
    "acc=accuracy_score(y_test,y_pred,normalize=True)*float(100)\n",
    "acc"
   ]
  },
  {
   "cell_type": "markdown",
   "metadata": {
    "collapsed": true
   },
   "source": [
    "## K-fold"
   ]
  },
  {
   "cell_type": "code",
   "execution_count": 10,
   "metadata": {
    "collapsed": true
   },
   "outputs": [],
   "source": [
    "#train-test split\n",
    "x_train,x_test,y_train,y_test=train_test_split(X,Y,test_size=0.25,random_state=123)"
   ]
  },
  {
   "cell_type": "markdown",
   "metadata": {},
   "source": [
    "* Function to find k"
   ]
  },
  {
   "cell_type": "code",
   "execution_count": 14,
   "metadata": {},
   "outputs": [
    {
     "name": "stdout",
     "output_type": "stream",
     "text": [
      "the optimal value of k is 5 \n"
     ]
    },
    {
     "data": {
      "image/png": "[encoded data removed]",
      "text/plain": [
       "<matplotlib.figure.Figure at 0x2192d8866d8>"
      ]
     },
     "metadata": {},
     "output_type": "display_data"
    }
   ],
   "source": [
    "neighbors=list(range(1,40,2))\n",
    "cv_score=[]\n",
    "\n",
    "for k in neighbors:\n",
    "    knn=KNeighborsClassifier(n_neighbors=k)\n",
    "    score=cross_val_score(knn,x_train,y_train,cv=6,scoring='accuracy')#Hyper parameter-CV\n",
    "    cv_score.append(score.mean())\n",
    "    \n",
    "MSE=[1-x for x in cv_score]\n",
    "\n",
    "optimal_k=neighbors[MSE.index(min(MSE))]\n",
    "print('the optimal value of k is %d '% optimal_k)\n",
    "plt.plot(neighbors,MSE)\n",
    "plt.xlabel('Number of Neighbors K')\n",
    "plt.ylabel('Misclassification Error')\n",
    "plt.show()"
   ]
  },
  {
   "cell_type": "code",
   "execution_count": 15,
   "metadata": {},
   "outputs": [
    {
     "data": {
      "text/plain": [
       "KNeighborsClassifier(algorithm='auto', leaf_size=30, metric='minkowski',\n",
       "           metric_params=None, n_jobs=1, n_neighbors=5, p=2,\n",
       "           weights='uniform')"
      ]
     },
     "execution_count": 15,
     "metadata": {},
     "output_type": "execute_result"
    }
   ],
   "source": [
    "classifier=KNeighborsClassifier(n_neighbors=optimal_k)\n",
    "classifier.fit(x_train,y_train)"
   ]
  },
  {
   "cell_type": "code",
   "execution_count": 16,
   "metadata": {
    "collapsed": true
   },
   "outputs": [],
   "source": [
    "y_pred=classifier.predict(x_test)"
   ]
  },
  {
   "cell_type": "code",
   "execution_count": 18,
   "metadata": {},
   "outputs": [
    {
     "data": {
      "text/plain": [
       "81.920000000000002"
      ]
     },
     "execution_count": 18,
     "metadata": {},
     "output_type": "execute_result"
    }
   ],
   "source": [
    "acc=accuracy_score(y_test,y_pred,normalize=True)*float(100)\n",
    "acc"
   ]
  },
  {
   "cell_type": "markdown",
   "metadata": {
    "collapsed": true
   },
   "source": [
    " ## Accuracies :- \n",
    "               1) knn - 83.7%\n",
    "               2) CV  - 83.5%\n",
    "               3) kfold- 81.9%"
   ]
  },
  {
   "cell_type": "code",
   "execution_count": null,
   "metadata": {
    "collapsed": true
   },
   "outputs": [],
   "source": []
  }
 ],
 "metadata": {
  "kernelspec": {
   "display_name": "Python 3",
   "language": "python",
   "name": "python3"
  },
  "language_info": {
   "codemirror_mode": {
    "name": "ipython",
    "version": 3
   },
   "file_extension": ".py",
   "mimetype": "text/x-python",
   "name": "python",
   "nbconvert_exporter": "python",
   "pygments_lexer": "ipython3",
   "version": "3.6.3"
  }
 },
 "nbformat": 4,
 "nbformat_minor": 2
}
