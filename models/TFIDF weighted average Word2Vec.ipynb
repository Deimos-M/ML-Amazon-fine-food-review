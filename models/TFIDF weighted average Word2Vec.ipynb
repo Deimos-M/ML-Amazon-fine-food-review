{
 "cells": [
  {
   "cell_type": "code",
   "execution_count": 4,
   "metadata": {
    "collapsed": true
   },
   "outputs": [],
   "source": [
    "#importing  rethequired libraries\n",
    "import numpy as np\n",
    "import pandas as pd\n",
    "import matplotlib.pyplot as plt\n",
    "import seaborn as sns\n",
    "%matplotlib inline\n",
    "\n",
    "import sqlite3\n",
    "import pickle\n",
    "\n",
    "from sklearn.feature_extraction.text import TfidfVectorizer\n",
    "from sklearn.manifold import TSNE\n",
    "import gensim\n",
    "\n",
    "from sklearn.preprocessing import StandardScaler\n",
    "from sklearn.model_selection import train_test_split# for shuffle = false\n",
    "from sklearn.model_selection import cross_val_score\n",
    "from sklearn.neighbors import KNeighborsClassifier\n",
    "from matplotlib.colors import ListedColormap\n",
    "from sklearn.metrics import accuracy_score\n",
    "from sklearn.metrics import confusion_matrix"
   ]
  },
  {
   "cell_type": "code",
   "execution_count": 2,
   "metadata": {},
   "outputs": [
    {
     "data": {
      "text/html": [
       "<div>\n",
       "<style>\n",
       "    .dataframe thead tr:only-child th {\n",
       "        text-align: right;\n",
       "    }\n",
       "\n",
       "    .dataframe thead th {\n",
       "        text-align: left;\n",
       "    }\n",
       "\n",
       "    .dataframe tbody tr th {\n",
       "        vertical-align: top;\n",
       "    }\n",
       "</style>\n",
       "<table border=\"1\" class=\"dataframe\">\n",
       "  <thead>\n",
       "    <tr style=\"text-align: right;\">\n",
       "      <th></th>\n",
       "      <th>index</th>\n",
       "      <th>Id</th>\n",
       "      <th>ProductId</th>\n",
       "      <th>UserId</th>\n",
       "      <th>ProfileName</th>\n",
       "      <th>HelpfulnessNumerator</th>\n",
       "      <th>HelpfulnessDenominator</th>\n",
       "      <th>Score</th>\n",
       "      <th>Time</th>\n",
       "      <th>Summary</th>\n",
       "      <th>Text</th>\n",
       "      <th>cleaned_text</th>\n",
       "      <th>cleaned_text_nonstem</th>\n",
       "      <th>cleaned_summ_nonstem</th>\n",
       "    </tr>\n",
       "  </thead>\n",
       "  <tbody>\n",
       "    <tr>\n",
       "      <th>0</th>\n",
       "      <td>158339</td>\n",
       "      <td>171676</td>\n",
       "      <td>B000PVVG3O</td>\n",
       "      <td>A2Z6GD6SGCJQYZ</td>\n",
       "      <td>J. Hruby</td>\n",
       "      <td>0</td>\n",
       "      <td>0</td>\n",
       "      <td>1</td>\n",
       "      <td>1331164800</td>\n",
       "      <td>Great stuff for hiking/backpacking! Here's a r...</td>\n",
       "      <td>For backpacking, using the \"Pack it in, pack i...</td>\n",
       "      <td>backpack use pack pack leav trace frame mind a...</td>\n",
       "      <td>backpacking using pack pack leave trace frames...</td>\n",
       "      <td>great stuff hiking backpacking heres recipe</td>\n",
       "    </tr>\n",
       "    <tr>\n",
       "      <th>1</th>\n",
       "      <td>154483</td>\n",
       "      <td>167502</td>\n",
       "      <td>B001RDOVKE</td>\n",
       "      <td>A1ISRCMLBVFPA0</td>\n",
       "      <td>Bill Nesbit</td>\n",
       "      <td>4</td>\n",
       "      <td>4</td>\n",
       "      <td>1</td>\n",
       "      <td>1288310400</td>\n",
       "      <td>What a Treat!!</td>\n",
       "      <td>I was pleasantly surprised at how wonderful th...</td>\n",
       "      <td>pleasant surpris wonder quit honest best turtl...</td>\n",
       "      <td>pleasantly surprised wonderful quite honestly ...</td>\n",
       "      <td>treat</td>\n",
       "    </tr>\n",
       "    <tr>\n",
       "      <th>2</th>\n",
       "      <td>94670</td>\n",
       "      <td>102898</td>\n",
       "      <td>B000HZIB9A</td>\n",
       "      <td>A59HMW5T6TP</td>\n",
       "      <td>Angela A. Hooper</td>\n",
       "      <td>1</td>\n",
       "      <td>1</td>\n",
       "      <td>1</td>\n",
       "      <td>1206576000</td>\n",
       "      <td>Awesome Marinade!!!!!</td>\n",
       "      <td>This is the best marinade ever to put on chick...</td>\n",
       "      <td>best marinad ever put chicken unfortun absolut...</td>\n",
       "      <td>best marinade ever put chicken unfortunately a...</td>\n",
       "      <td>awesome marinade</td>\n",
       "    </tr>\n",
       "    <tr>\n",
       "      <th>3</th>\n",
       "      <td>343872</td>\n",
       "      <td>371996</td>\n",
       "      <td>B003LVWCTW</td>\n",
       "      <td>A13M50YKJGDVBG</td>\n",
       "      <td>S. Glosson \"eyesgreen52\"</td>\n",
       "      <td>0</td>\n",
       "      <td>0</td>\n",
       "      <td>1</td>\n",
       "      <td>1322179200</td>\n",
       "      <td>Warm Comfort food</td>\n",
       "      <td>Excellent and you can use chicken broth and ro...</td>\n",
       "      <td>excel use chicken broth rossiteri chicken inst...</td>\n",
       "      <td>excellent use chicken broth rossiterie chicken...</td>\n",
       "      <td>warm comfort food</td>\n",
       "    </tr>\n",
       "    <tr>\n",
       "      <th>4</th>\n",
       "      <td>163030</td>\n",
       "      <td>176755</td>\n",
       "      <td>B000YFDON6</td>\n",
       "      <td>A2GAI61W3WHRJY</td>\n",
       "      <td>C. G. Royal</td>\n",
       "      <td>2</td>\n",
       "      <td>3</td>\n",
       "      <td>1</td>\n",
       "      <td>1217376000</td>\n",
       "      <td>gum</td>\n",
       "      <td>Product arrived very quickly.  Nice job.  this...</td>\n",
       "      <td>product arriv quick nice job best cinnamon gum...</td>\n",
       "      <td>product arrived quickly nice job best cinnamon...</td>\n",
       "      <td>gum</td>\n",
       "    </tr>\n",
       "  </tbody>\n",
       "</table>\n",
       "</div>"
      ],
      "text/plain": [
       "    index      Id   ProductId          UserId               ProfileName  \\\n",
       "0  158339  171676  B000PVVG3O  A2Z6GD6SGCJQYZ                  J. Hruby   \n",
       "1  154483  167502  B001RDOVKE  A1ISRCMLBVFPA0               Bill Nesbit   \n",
       "2   94670  102898  B000HZIB9A     A59HMW5T6TP          Angela A. Hooper   \n",
       "3  343872  371996  B003LVWCTW  A13M50YKJGDVBG  S. Glosson \"eyesgreen52\"   \n",
       "4  163030  176755  B000YFDON6  A2GAI61W3WHRJY               C. G. Royal   \n",
       "\n",
       "   HelpfulnessNumerator  HelpfulnessDenominator  Score        Time  \\\n",
       "0                     0                       0      1  1331164800   \n",
       "1                     4                       4      1  1288310400   \n",
       "2                     1                       1      1  1206576000   \n",
       "3                     0                       0      1  1322179200   \n",
       "4                     2                       3      1  1217376000   \n",
       "\n",
       "                                             Summary  \\\n",
       "0  Great stuff for hiking/backpacking! Here's a r...   \n",
       "1                                     What a Treat!!   \n",
       "2                              Awesome Marinade!!!!!   \n",
       "3                                  Warm Comfort food   \n",
       "4                                                gum   \n",
       "\n",
       "                                                Text  \\\n",
       "0  For backpacking, using the \"Pack it in, pack i...   \n",
       "1  I was pleasantly surprised at how wonderful th...   \n",
       "2  This is the best marinade ever to put on chick...   \n",
       "3  Excellent and you can use chicken broth and ro...   \n",
       "4  Product arrived very quickly.  Nice job.  this...   \n",
       "\n",
       "                                        cleaned_text  \\\n",
       "0  backpack use pack pack leav trace frame mind a...   \n",
       "1  pleasant surpris wonder quit honest best turtl...   \n",
       "2  best marinad ever put chicken unfortun absolut...   \n",
       "3  excel use chicken broth rossiteri chicken inst...   \n",
       "4  product arriv quick nice job best cinnamon gum...   \n",
       "\n",
       "                                cleaned_text_nonstem  \\\n",
       "0  backpacking using pack pack leave trace frames...   \n",
       "1  pleasantly surprised wonderful quite honestly ...   \n",
       "2  best marinade ever put chicken unfortunately a...   \n",
       "3  excellent use chicken broth rossiterie chicken...   \n",
       "4  product arrived quickly nice job best cinnamon...   \n",
       "\n",
       "                          cleaned_summ_nonstem  \n",
       "0  great stuff hiking backpacking heres recipe  \n",
       "1                                        treat  \n",
       "2                             awesome marinade  \n",
       "3                            warm comfort food  \n",
       "4                                          gum  "
      ]
     },
     "execution_count": 2,
     "metadata": {},
     "output_type": "execute_result"
    }
   ],
   "source": [
    "#read the dataset\n",
    "conn=sqlite3.connect('final.sqlite')\n",
    "final=pd.read_sql_query(\"\"\"select * from Reviews\"\"\",conn)\n",
    "conn.close()\n",
    "final.head()"
   ]
  },
  {
   "cell_type": "code",
   "execution_count": 3,
   "metadata": {
    "collapsed": true
   },
   "outputs": [],
   "source": [
    "#list of sent pickle file\n",
    "with open('list_of_sent_for_input_to_w2v.pkl', 'rb') as pickle_file:\n",
    "    list_of_sent = pickle.load(pickle_file)"
   ]
  },
  {
   "cell_type": "code",
   "execution_count": 5,
   "metadata": {
    "collapsed": true
   },
   "outputs": [],
   "source": [
    "#google W2V text file\n",
    "with open('google_word2vec_model.txt', 'rb') as pickle_file:\n",
    "    google_w2v = pickle.load(pickle_file)"
   ]
  },
  {
   "cell_type": "code",
   "execution_count": 6,
   "metadata": {
    "collapsed": true
   },
   "outputs": [],
   "source": [
    "#code to calc tfidf vectorizer \n",
    "tfidf_vect = TfidfVectorizer()\n",
    "tfidf = tfidf_vect.fit_transform(final['cleaned_text_nonstem'].values)\n",
    "tfidf_feat = tfidf_vect.get_feature_names()"
   ]
  },
  {
   "cell_type": "markdown",
   "metadata": {},
   "source": [
    "* fn to calc tfidf weighted avg w2v"
   ]
  },
  {
   "cell_type": "code",
   "execution_count": 7,
   "metadata": {
    "collapsed": true
   },
   "outputs": [],
   "source": [
    "def calc_tfidf_w2v(list_of_sent, w2v_model, tf_idf, tfidf_feat,start_row):\n",
    "    '''This function takes in 5 parameters as follows:\n",
    "       1. list_of_sent - This is the list of sentences/reviews for which sentence vetors are to be constructed\n",
    "       2. w2v_model - This is the Word2Vec model which is trained on the working corpus - contains the word vectors\n",
    "       3. tf_idf - This is the TF-IDF model built using the same reviews/sentences - it is the TF-IDF sparse matrix\n",
    "       4. tfidf_feat - This is the feature vector constructed from the TF-IDF model\n",
    "       \n",
    "       Return Value:\n",
    "       tfidf_sent_vectors - This is a list of sentence/review vectors constructed by using tfidf weighted average on the word vectors\n",
    "    '''\n",
    "    \n",
    "    ## Initialize an empty list\n",
    "    sent_vectors = []\n",
    "    row = 0\n",
    "    ## Consider one sentence/review at a time\n",
    "    for sent in list_of_sent:\n",
    "        ## Initialize sentence vector to 0\n",
    "        sen_vec = np.zeros(300)\n",
    "        ## Initialize weighted sum to 0\n",
    "        weighted_sum = 0\n",
    "        ## Consider the words one by one\n",
    "        for word in sent:\n",
    "            try:\n",
    "                ## Calculate the word vector using the W2V model\n",
    "                vec = w2v_model[word]\n",
    "                ## Calculate tfidf value of the word in that review using tfidf model\n",
    "                tf_idf = tfidf[start_row, tfidf_feat.index(word)]\n",
    "                ## Add the product of tfidf*word_vec to the sentence vector (This is the numerator)\n",
    "                sen_vec += vec*tf_idf \n",
    "                ## Sum all the tfidf values (This is the denominator)\n",
    "                weighted_sum += tf_idf  \n",
    "            except:\n",
    "                pass\n",
    "        \n",
    "        ## Divide the numerator by the denominator to get the sentence vector\n",
    "        sen_vec /= weighted_sum\n",
    "        print(start_row, weighted_sum)\n",
    "        ## Add the sentence vector in the final list\n",
    "        sent_vectors.append(sen_vec)\n",
    "        start_row += 1\n",
    "    ## return the list of all the sentence vectors\n",
    "    return sent_vectors"
   ]
  },
  {
   "cell_type": "code",
   "execution_count": null,
   "metadata": {},
   "outputs": [],
   "source": [
    "tfidf_sent_vector = calc_tfidf_w2v(list_of_sent[:60000], google_w2v, tfidf, tfidf_feat, 0)"
   ]
  },
  {
   "cell_type": "code",
   "execution_count": 9,
   "metadata": {
    "collapsed": true
   },
   "outputs": [],
   "source": [
    "#save the sent vectors to hard disk\n",
    "with open('weighted_avg_w2v.pkl','wb') as pickle_file:\n",
    "    pickle.dump(tfidf_sent_vector,pickle_file)"
   ]
  },
  {
   "cell_type": "code",
   "execution_count": 10,
   "metadata": {
    "collapsed": true
   },
   "outputs": [],
   "source": [
    "#opening pickle file of tfidf sent vectors\n",
    "with open('weighted_avg_w2v.pkl','rb') as pickle_file:\n",
    "    tfidf_sent_vector = pickle.load(pickle_file)"
   ]
  },
  {
   "cell_type": "code",
   "execution_count": 11,
   "metadata": {},
   "outputs": [
    {
     "data": {
      "text/plain": [
       "(60000, 300)"
      ]
     },
     "execution_count": 11,
     "metadata": {},
     "output_type": "execute_result"
    }
   ],
   "source": [
    "x=np.array(tfidf_sent_vector)\n",
    "df=pd.DataFrame(x) #creating a dataframe of tfidf sent vectors\n",
    "df.shape"
   ]
  },
  {
   "cell_type": "code",
   "execution_count": 12,
   "metadata": {
    "collapsed": true
   },
   "outputs": [],
   "source": [
    "df['time']=final['Time'].iloc[:60000] #sampling the dataset\n",
    "df['score']=final['Score'].iloc[:60000]"
   ]
  },
  {
   "cell_type": "code",
   "execution_count": 13,
   "metadata": {
    "collapsed": true
   },
   "outputs": [],
   "source": [
    "df=df.dropna(axis =0 ) #removing all those rows which contains null values"
   ]
  },
  {
   "cell_type": "code",
   "execution_count": 14,
   "metadata": {},
   "outputs": [
    {
     "name": "stdout",
     "output_type": "stream",
     "text": [
      "(59998, 302)\n"
     ]
    },
    {
     "data": {
      "text/html": [
       "<div>\n",
       "<style>\n",
       "    .dataframe thead tr:only-child th {\n",
       "        text-align: right;\n",
       "    }\n",
       "\n",
       "    .dataframe thead th {\n",
       "        text-align: left;\n",
       "    }\n",
       "\n",
       "    .dataframe tbody tr th {\n",
       "        vertical-align: top;\n",
       "    }\n",
       "</style>\n",
       "<table border=\"1\" class=\"dataframe\">\n",
       "  <thead>\n",
       "    <tr style=\"text-align: right;\">\n",
       "      <th></th>\n",
       "      <th>0</th>\n",
       "      <th>1</th>\n",
       "      <th>2</th>\n",
       "      <th>3</th>\n",
       "      <th>4</th>\n",
       "      <th>5</th>\n",
       "      <th>6</th>\n",
       "      <th>7</th>\n",
       "      <th>8</th>\n",
       "      <th>9</th>\n",
       "      <th>...</th>\n",
       "      <th>292</th>\n",
       "      <th>293</th>\n",
       "      <th>294</th>\n",
       "      <th>295</th>\n",
       "      <th>296</th>\n",
       "      <th>297</th>\n",
       "      <th>298</th>\n",
       "      <th>299</th>\n",
       "      <th>time</th>\n",
       "      <th>score</th>\n",
       "    </tr>\n",
       "  </thead>\n",
       "  <tbody>\n",
       "    <tr>\n",
       "      <th>8085</th>\n",
       "      <td>0.062006</td>\n",
       "      <td>-0.001658</td>\n",
       "      <td>-0.111280</td>\n",
       "      <td>0.109549</td>\n",
       "      <td>-0.079417</td>\n",
       "      <td>0.037457</td>\n",
       "      <td>0.110930</td>\n",
       "      <td>-0.043663</td>\n",
       "      <td>0.023995</td>\n",
       "      <td>0.049165</td>\n",
       "      <td>...</td>\n",
       "      <td>-0.116743</td>\n",
       "      <td>0.029091</td>\n",
       "      <td>0.006191</td>\n",
       "      <td>-0.008417</td>\n",
       "      <td>0.032929</td>\n",
       "      <td>0.021366</td>\n",
       "      <td>0.007655</td>\n",
       "      <td>-0.019193</td>\n",
       "      <td>944092800</td>\n",
       "      <td>1</td>\n",
       "    </tr>\n",
       "    <tr>\n",
       "      <th>32847</th>\n",
       "      <td>0.003465</td>\n",
       "      <td>0.028732</td>\n",
       "      <td>-0.018698</td>\n",
       "      <td>0.136915</td>\n",
       "      <td>-0.059155</td>\n",
       "      <td>-0.021862</td>\n",
       "      <td>0.017819</td>\n",
       "      <td>-0.069852</td>\n",
       "      <td>0.040595</td>\n",
       "      <td>0.084407</td>\n",
       "      <td>...</td>\n",
       "      <td>-0.094117</td>\n",
       "      <td>-0.001312</td>\n",
       "      <td>-0.050574</td>\n",
       "      <td>-0.078621</td>\n",
       "      <td>-0.033452</td>\n",
       "      <td>-0.078896</td>\n",
       "      <td>-0.031227</td>\n",
       "      <td>0.021306</td>\n",
       "      <td>1012780800</td>\n",
       "      <td>1</td>\n",
       "    </tr>\n",
       "    <tr>\n",
       "      <th>7848</th>\n",
       "      <td>0.037415</td>\n",
       "      <td>-0.035357</td>\n",
       "      <td>0.001373</td>\n",
       "      <td>0.085302</td>\n",
       "      <td>-0.053043</td>\n",
       "      <td>0.024755</td>\n",
       "      <td>0.021655</td>\n",
       "      <td>-0.037954</td>\n",
       "      <td>0.073549</td>\n",
       "      <td>0.038541</td>\n",
       "      <td>...</td>\n",
       "      <td>-0.075883</td>\n",
       "      <td>-0.014201</td>\n",
       "      <td>-0.061517</td>\n",
       "      <td>-0.065902</td>\n",
       "      <td>0.022953</td>\n",
       "      <td>-0.043048</td>\n",
       "      <td>-0.002478</td>\n",
       "      <td>-0.002785</td>\n",
       "      <td>1014163200</td>\n",
       "      <td>1</td>\n",
       "    </tr>\n",
       "    <tr>\n",
       "      <th>14778</th>\n",
       "      <td>0.019556</td>\n",
       "      <td>0.030235</td>\n",
       "      <td>-0.022613</td>\n",
       "      <td>0.066466</td>\n",
       "      <td>-0.001294</td>\n",
       "      <td>-0.010194</td>\n",
       "      <td>0.022104</td>\n",
       "      <td>-0.082219</td>\n",
       "      <td>0.040394</td>\n",
       "      <td>0.063478</td>\n",
       "      <td>...</td>\n",
       "      <td>-0.046666</td>\n",
       "      <td>0.010685</td>\n",
       "      <td>-0.041257</td>\n",
       "      <td>-0.040610</td>\n",
       "      <td>-0.002259</td>\n",
       "      <td>-0.055486</td>\n",
       "      <td>-0.017451</td>\n",
       "      <td>0.004767</td>\n",
       "      <td>1015545600</td>\n",
       "      <td>1</td>\n",
       "    </tr>\n",
       "    <tr>\n",
       "      <th>30941</th>\n",
       "      <td>0.048515</td>\n",
       "      <td>-0.001051</td>\n",
       "      <td>-0.019470</td>\n",
       "      <td>0.119940</td>\n",
       "      <td>0.063291</td>\n",
       "      <td>0.036864</td>\n",
       "      <td>0.059346</td>\n",
       "      <td>0.121984</td>\n",
       "      <td>0.007228</td>\n",
       "      <td>-0.048536</td>\n",
       "      <td>...</td>\n",
       "      <td>-0.178375</td>\n",
       "      <td>-0.157791</td>\n",
       "      <td>-0.062356</td>\n",
       "      <td>-0.062002</td>\n",
       "      <td>0.094937</td>\n",
       "      <td>-0.025771</td>\n",
       "      <td>0.007637</td>\n",
       "      <td>0.034338</td>\n",
       "      <td>1018396800</td>\n",
       "      <td>1</td>\n",
       "    </tr>\n",
       "  </tbody>\n",
       "</table>\n",
       "<p>5 rows × 302 columns</p>\n",
       "</div>"
      ],
      "text/plain": [
       "              0         1         2         3         4         5         6  \\\n",
       "8085   0.062006 -0.001658 -0.111280  0.109549 -0.079417  0.037457  0.110930   \n",
       "32847  0.003465  0.028732 -0.018698  0.136915 -0.059155 -0.021862  0.017819   \n",
       "7848   0.037415 -0.035357  0.001373  0.085302 -0.053043  0.024755  0.021655   \n",
       "14778  0.019556  0.030235 -0.022613  0.066466 -0.001294 -0.010194  0.022104   \n",
       "30941  0.048515 -0.001051 -0.019470  0.119940  0.063291  0.036864  0.059346   \n",
       "\n",
       "              7         8         9  ...         292       293       294  \\\n",
       "8085  -0.043663  0.023995  0.049165  ...   -0.116743  0.029091  0.006191   \n",
       "32847 -0.069852  0.040595  0.084407  ...   -0.094117 -0.001312 -0.050574   \n",
       "7848  -0.037954  0.073549  0.038541  ...   -0.075883 -0.014201 -0.061517   \n",
       "14778 -0.082219  0.040394  0.063478  ...   -0.046666  0.010685 -0.041257   \n",
       "30941  0.121984  0.007228 -0.048536  ...   -0.178375 -0.157791 -0.062356   \n",
       "\n",
       "            295       296       297       298       299        time  score  \n",
       "8085  -0.008417  0.032929  0.021366  0.007655 -0.019193   944092800      1  \n",
       "32847 -0.078621 -0.033452 -0.078896 -0.031227  0.021306  1012780800      1  \n",
       "7848  -0.065902  0.022953 -0.043048 -0.002478 -0.002785  1014163200      1  \n",
       "14778 -0.040610 -0.002259 -0.055486 -0.017451  0.004767  1015545600      1  \n",
       "30941 -0.062002  0.094937 -0.025771  0.007637  0.034338  1018396800      1  \n",
       "\n",
       "[5 rows x 302 columns]"
      ]
     },
     "execution_count": 14,
     "metadata": {},
     "output_type": "execute_result"
    }
   ],
   "source": [
    "df=df.sort_values(['time']) #sorting on time\n",
    "print(df.shape)\n",
    "df.head()"
   ]
  },
  {
   "cell_type": "code",
   "execution_count": 15,
   "metadata": {},
   "outputs": [
    {
     "name": "stdout",
     "output_type": "stream",
     "text": [
      "<class 'numpy.ndarray'>\n"
     ]
    },
    {
     "data": {
      "text/plain": [
       "numpy.ndarray"
      ]
     },
     "execution_count": 15,
     "metadata": {},
     "output_type": "execute_result"
    }
   ],
   "source": [
    "x=df.iloc[:,:300].values #considering only first 300 features\n",
    "print(type(x))\n",
    "y=df['score'].values\n",
    "type(y)"
   ]
  },
  {
   "cell_type": "code",
   "execution_count": 16,
   "metadata": {},
   "outputs": [
    {
     "data": {
      "text/plain": [
       "array([[ 1.24116039, -0.74261425, -2.02702776, ...,  0.45819294,\n",
       "        -0.46469621, -0.43173613],\n",
       "       [ 0.07454026, -0.14684314, -0.20477713, ..., -1.23180916,\n",
       "        -1.21373331,  0.32730799],\n",
       "       [ 0.75110322, -1.4032601 ,  0.19027058, ..., -0.62756659,\n",
       "        -0.65990932, -0.12421839],\n",
       "       [ 0.39519544, -0.11736952, -0.2818369 , ..., -0.83721705,\n",
       "        -0.94835044,  0.01733164],\n",
       "       [ 0.97229988, -0.730721  , -0.21996613, ..., -0.33634817,\n",
       "        -0.46503719,  0.57154978]])"
      ]
     },
     "execution_count": 16,
     "metadata": {},
     "output_type": "execute_result"
    }
   ],
   "source": [
    "s=StandardScaler()\n",
    "x=s.fit_transform(x)\n",
    "x[:5,:]"
   ]
  },
  {
   "cell_type": "code",
   "execution_count": 17,
   "metadata": {
    "collapsed": true
   },
   "outputs": [],
   "source": [
    "#train-test split\n",
    "x_train,x_test,y_train,y_test=train_test_split(x,y,test_size=0.35,shuffle =False) "
   ]
  },
  {
   "cell_type": "markdown",
   "metadata": {},
   "source": [
    "*  Code to perform k fold"
   ]
  },
  {
   "cell_type": "code",
   "execution_count": 18,
   "metadata": {},
   "outputs": [
    {
     "name": "stdout",
     "output_type": "stream",
     "text": [
      "the optimal value of k is 15\n"
     ]
    },
    {
     "data": {
      "image/png": "[encoded data removed]",
      "text/plain": [
       "<matplotlib.figure.Figure at 0x2aabb845160>"
      ]
     },
     "metadata": {},
     "output_type": "display_data"
    }
   ],
   "source": [
    "neighbors=list(range(1,31,2))\n",
    "cv_scores=[]\n",
    "\n",
    "for k in neighbors:\n",
    "    knn=KNeighborsClassifier(n_neighbors=k)\n",
    "    score=cross_val_score(knn,x_train,y_train,cv=5,scoring='accuracy') #Hyper parameter -CV\n",
    "    cv_scores.append(score.mean())\n",
    "    \n",
    "MSE=[1-x for x in cv_scores]\n",
    "\n",
    "optimal_k=neighbors[MSE.index(min(MSE))]\n",
    "print('the optimal value of k is %d' % optimal_k)\n",
    "plt.plot(neighbors,MSE)\n",
    "plt.xlabel('no. of neighbors')\n",
    "plt.ylabel('misclassification error')\n",
    "plt.show()"
   ]
  },
  {
   "cell_type": "code",
   "execution_count": 19,
   "metadata": {},
   "outputs": [
    {
     "data": {
      "text/plain": [
       "KNeighborsClassifier(algorithm='auto', leaf_size=30, metric='minkowski',\n",
       "           metric_params=None, n_jobs=1, n_neighbors=15, p=2,\n",
       "           weights='uniform')"
      ]
     },
     "execution_count": 19,
     "metadata": {},
     "output_type": "execute_result"
    }
   ],
   "source": [
    "#fitting the model on optimal value of k\n",
    "classifier = KNeighborsClassifier(n_neighbors = optimal_k)\n",
    "classifier.fit(x_train, y_train)"
   ]
  },
  {
   "cell_type": "code",
   "execution_count": 20,
   "metadata": {
    "collapsed": true
   },
   "outputs": [],
   "source": [
    "#generating prediction\n",
    "y_pred = classifier.predict(x_test) "
   ]
  },
  {
   "cell_type": "code",
   "execution_count": 21,
   "metadata": {},
   "outputs": [
    {
     "data": {
      "text/plain": [
       "82.80952380952381"
      ]
     },
     "execution_count": 21,
     "metadata": {},
     "output_type": "execute_result"
    }
   ],
   "source": [
    "acc = accuracy_score(y_test, y_pred, normalize=True) * float(100)\n",
    "acc"
   ]
  },
  {
   "cell_type": "code",
   "execution_count": 25,
   "metadata": {},
   "outputs": [
    {
     "name": "stdout",
     "output_type": "stream",
     "text": [
      "[[  181    62]\n",
      " [ 3548 17209]]\n"
     ]
    }
   ],
   "source": [
    "results = confusion_matrix(y_test, y_pred).T\n",
    "print(results)"
   ]
  },
  {
   "cell_type": "code",
   "execution_count": null,
   "metadata": {
    "collapsed": true
   },
   "outputs": [],
   "source": []
  }
 ],
 "metadata": {
  "kernelspec": {
   "display_name": "Python 3",
   "language": "python",
   "name": "python3"
  },
  "language_info": {
   "codemirror_mode": {
    "name": "ipython",
    "version": 3
   },
   "file_extension": ".py",
   "mimetype": "text/x-python",
   "name": "python",
   "nbconvert_exporter": "python",
   "pygments_lexer": "ipython3",
   "version": "3.6.3"
  }
 },
 "nbformat": 4,
 "nbformat_minor": 2
}
