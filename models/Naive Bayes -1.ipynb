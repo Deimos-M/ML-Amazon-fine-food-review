{
 "cells": [
  {
   "cell_type": "code",
   "execution_count": 4,
   "metadata": {
    "collapsed": true
   },
   "outputs": [],
   "source": [
    "#importing the required libraries\n",
    "import numpy as np\n",
    "import pandas as pd\n",
    "import matplotlib.pyplot as plt\n",
    "import seaborn as sns\n",
    "%matplotlib inline\n",
    "\n",
    "import sqlite3\n",
    "from sklearn.feature_extraction.text import TfidfVectorizer\n",
    "from sklearn.feature_extraction.text import CountVectorizer\n",
    "from sklearn.naive_bayes import BernoulliNB\n",
    "from sklearn.naive_bayes import MultinomialNB\n",
    "\n",
    "import gensim\n",
    "\n",
    "from sklearn.preprocessing import StandardScaler\n",
    "from sklearn.model_selection import train_test_split\n",
    "from sklearn.model_selection import cross_val_score\n",
    "from sklearn.neighbors import KNeighborsClassifier\n",
    "from matplotlib.colors import ListedColormap\n",
    "from sklearn.metrics import accuracy_score\n",
    "from sklearn.metrics import confusion_matrix\n"
   ]
  },
  {
   "cell_type": "code",
   "execution_count": 5,
   "metadata": {},
   "outputs": [
    {
     "data": {
      "text/html": [
       "<div>\n",
       "<style>\n",
       "    .dataframe thead tr:only-child th {\n",
       "        text-align: right;\n",
       "    }\n",
       "\n",
       "    .dataframe thead th {\n",
       "        text-align: left;\n",
       "    }\n",
       "\n",
       "    .dataframe tbody tr th {\n",
       "        vertical-align: top;\n",
       "    }\n",
       "</style>\n",
       "<table border=\"1\" class=\"dataframe\">\n",
       "  <thead>\n",
       "    <tr style=\"text-align: right;\">\n",
       "      <th></th>\n",
       "      <th>Id</th>\n",
       "      <th>ProductId</th>\n",
       "      <th>UserId</th>\n",
       "      <th>ProfileName</th>\n",
       "      <th>HelpfulnessNumerator</th>\n",
       "      <th>HelpfulnessDenominator</th>\n",
       "      <th>Score</th>\n",
       "      <th>Time</th>\n",
       "      <th>Summary</th>\n",
       "      <th>Text</th>\n",
       "      <th>CleanedText</th>\n",
       "      <th>CleanedNoStem</th>\n",
       "      <th>CleanedSummary</th>\n",
       "    </tr>\n",
       "  </thead>\n",
       "  <tbody>\n",
       "    <tr>\n",
       "      <th>0</th>\n",
       "      <td>540125</td>\n",
       "      <td>B002W08W56</td>\n",
       "      <td>A2STPOZAT37RNE</td>\n",
       "      <td>Betty Baker</td>\n",
       "      <td>1</td>\n",
       "      <td>1</td>\n",
       "      <td>1</td>\n",
       "      <td>1300320000</td>\n",
       "      <td>Wonderful, but surprised to find this size can...</td>\n",
       "      <td>Great beans....the best texture hands down.  T...</td>\n",
       "      <td>great bean best textur hand seem great tast do...</td>\n",
       "      <td>great beans best texture hands seem great tast...</td>\n",
       "      <td>wonderful surprised find size</td>\n",
       "    </tr>\n",
       "    <tr>\n",
       "      <th>1</th>\n",
       "      <td>31763</td>\n",
       "      <td>B000UXWQMC</td>\n",
       "      <td>A115Y8R40DCT3I</td>\n",
       "      <td>Guy</td>\n",
       "      <td>0</td>\n",
       "      <td>0</td>\n",
       "      <td>1</td>\n",
       "      <td>1345161600</td>\n",
       "      <td>better than expected</td>\n",
       "      <td>I usually buy whole pitted olives and when I b...</td>\n",
       "      <td>usual buy whole pit oliv bought good wasnt who...</td>\n",
       "      <td>usually buy whole pitted olives bought good wa...</td>\n",
       "      <td>better expected</td>\n",
       "    </tr>\n",
       "    <tr>\n",
       "      <th>2</th>\n",
       "      <td>509504</td>\n",
       "      <td>B000P09RJA</td>\n",
       "      <td>A2BR8LGC8N6XQD</td>\n",
       "      <td>dj2u</td>\n",
       "      <td>0</td>\n",
       "      <td>4</td>\n",
       "      <td>0</td>\n",
       "      <td>1278374400</td>\n",
       "      <td>Wrong size bars sent</td>\n",
       "      <td>The first shipment was just as ordered.  This ...</td>\n",
       "      <td>first shipment order last shipment not bar wen...</td>\n",
       "      <td>first shipment ordered last shipment not bars ...</td>\n",
       "      <td>wrong size bars sent</td>\n",
       "    </tr>\n",
       "    <tr>\n",
       "      <th>3</th>\n",
       "      <td>27728</td>\n",
       "      <td>B000K8ESBY</td>\n",
       "      <td>A1RYTIMIWPDJ4O</td>\n",
       "      <td>Bill Ison \"Bill\"</td>\n",
       "      <td>0</td>\n",
       "      <td>0</td>\n",
       "      <td>1</td>\n",
       "      <td>1256169600</td>\n",
       "      <td>Coffee flavoring</td>\n",
       "      <td>&lt;a href=\"http://www.amazon.com/gp/product/B000...</td>\n",
       "      <td>flavour creation coffe flavor tablet french va...</td>\n",
       "      <td>flavour creations coffee flavoring tablets fre...</td>\n",
       "      <td>coffee flavoring</td>\n",
       "    </tr>\n",
       "    <tr>\n",
       "      <th>4</th>\n",
       "      <td>128657</td>\n",
       "      <td>B001AVJT0K</td>\n",
       "      <td>AJ6SZ4YAPOOO7</td>\n",
       "      <td>Mwebi</td>\n",
       "      <td>0</td>\n",
       "      <td>0</td>\n",
       "      <td>1</td>\n",
       "      <td>1348099200</td>\n",
       "      <td>They all come running</td>\n",
       "      <td>I have the pickiest cats, they hate 99/100 kin...</td>\n",
       "      <td>pickiest cat hate kind food better vari otherw...</td>\n",
       "      <td>pickiest cats hate kinds food better vary othe...</td>\n",
       "      <td>come running</td>\n",
       "    </tr>\n",
       "  </tbody>\n",
       "</table>\n",
       "</div>"
      ],
      "text/plain": [
       "       Id   ProductId          UserId       ProfileName  HelpfulnessNumerator  \\\n",
       "0  540125  B002W08W56  A2STPOZAT37RNE       Betty Baker                     1   \n",
       "1   31763  B000UXWQMC  A115Y8R40DCT3I               Guy                     0   \n",
       "2  509504  B000P09RJA  A2BR8LGC8N6XQD              dj2u                     0   \n",
       "3   27728  B000K8ESBY  A1RYTIMIWPDJ4O  Bill Ison \"Bill\"                     0   \n",
       "4  128657  B001AVJT0K   AJ6SZ4YAPOOO7             Mwebi                     0   \n",
       "\n",
       "   HelpfulnessDenominator  Score        Time  \\\n",
       "0                       1      1  1300320000   \n",
       "1                       0      1  1345161600   \n",
       "2                       4      0  1278374400   \n",
       "3                       0      1  1256169600   \n",
       "4                       0      1  1348099200   \n",
       "\n",
       "                                             Summary  \\\n",
       "0  Wonderful, but surprised to find this size can...   \n",
       "1                               better than expected   \n",
       "2                               Wrong size bars sent   \n",
       "3                                   Coffee flavoring   \n",
       "4                              They all come running   \n",
       "\n",
       "                                                Text  \\\n",
       "0  Great beans....the best texture hands down.  T...   \n",
       "1  I usually buy whole pitted olives and when I b...   \n",
       "2  The first shipment was just as ordered.  This ...   \n",
       "3  <a href=\"http://www.amazon.com/gp/product/B000...   \n",
       "4  I have the pickiest cats, they hate 99/100 kin...   \n",
       "\n",
       "                                         CleanedText  \\\n",
       "0  great bean best textur hand seem great tast do...   \n",
       "1  usual buy whole pit oliv bought good wasnt who...   \n",
       "2  first shipment order last shipment not bar wen...   \n",
       "3  flavour creation coffe flavor tablet french va...   \n",
       "4  pickiest cat hate kind food better vari otherw...   \n",
       "\n",
       "                                       CleanedNoStem  \\\n",
       "0  great beans best texture hands seem great tast...   \n",
       "1  usually buy whole pitted olives bought good wa...   \n",
       "2  first shipment ordered last shipment not bars ...   \n",
       "3  flavour creations coffee flavoring tablets fre...   \n",
       "4  pickiest cats hate kinds food better vary othe...   \n",
       "\n",
       "                  CleanedSummary  \n",
       "0  wonderful surprised find size  \n",
       "1                better expected  \n",
       "2           wrong size bars sent  \n",
       "3               coffee flavoring  \n",
       "4                   come running  "
      ]
     },
     "execution_count": 5,
     "metadata": {},
     "output_type": "execute_result"
    }
   ],
   "source": [
    "#read the dataset\n",
    "conn=sqlite3.connect('final.sqlite')\n",
    "final=pd.read_sql_query(\"\"\"select * from Reviews\"\"\",conn)\n",
    "conn.close()\n",
    "final.head()"
   ]
  },
  {
   "cell_type": "code",
   "execution_count": 6,
   "metadata": {
    "collapsed": true
   },
   "outputs": [],
   "source": [
    "#Creating a new balanced dataframe \n",
    "negative=final[final['Score']==0][['Score','Time','CleanedSummary','CleanedText']]\n",
    "positive=final[final['Score']==1][['Score','Time','CleanedSummary','CleanedText']]\n",
    "data=pd.concat([negative,positive.iloc[:65000,:]],axis=0,ignore_index=True)#concatenation\n",
    "data.sort_values('Time',inplace=True)#sorting on time"
   ]
  },
  {
   "cell_type": "code",
   "execution_count": 7,
   "metadata": {},
   "outputs": [
    {
     "data": {
      "text/html": [
       "<div>\n",
       "<style>\n",
       "    .dataframe thead tr:only-child th {\n",
       "        text-align: right;\n",
       "    }\n",
       "\n",
       "    .dataframe thead th {\n",
       "        text-align: left;\n",
       "    }\n",
       "\n",
       "    .dataframe tbody tr th {\n",
       "        vertical-align: top;\n",
       "    }\n",
       "</style>\n",
       "<table border=\"1\" class=\"dataframe\">\n",
       "  <thead>\n",
       "    <tr style=\"text-align: right;\">\n",
       "      <th></th>\n",
       "      <th>Score</th>\n",
       "      <th>Time</th>\n",
       "      <th>CleanedSummary</th>\n",
       "      <th>CleanedText</th>\n",
       "    </tr>\n",
       "  </thead>\n",
       "  <tbody>\n",
       "    <tr>\n",
       "      <th>89279</th>\n",
       "      <td>1</td>\n",
       "      <td>944092800</td>\n",
       "      <td>entertainingl funny</td>\n",
       "      <td>beetlejuic well written movi everyth excel act...</td>\n",
       "    </tr>\n",
       "    <tr>\n",
       "      <th>99092</th>\n",
       "      <td>1</td>\n",
       "      <td>944438400</td>\n",
       "      <td>modern day fairy tale</td>\n",
       "      <td>twist rumplestiskin captur film star michael k...</td>\n",
       "    </tr>\n",
       "    <tr>\n",
       "      <th>21840</th>\n",
       "      <td>0</td>\n",
       "      <td>948240000</td>\n",
       "      <td>clamshell edition edited version</td>\n",
       "      <td>alway enjoy movi funni entertain didnt hesit p...</td>\n",
       "    </tr>\n",
       "    <tr>\n",
       "      <th>114632</th>\n",
       "      <td>1</td>\n",
       "      <td>951523200</td>\n",
       "      <td>bettlejuice bettlejuice bettlejuice</td>\n",
       "      <td>happen say name three time michael keaten star...</td>\n",
       "    </tr>\n",
       "    <tr>\n",
       "      <th>113134</th>\n",
       "      <td>1</td>\n",
       "      <td>961718400</td>\n",
       "      <td>great product</td>\n",
       "      <td>realli good idea final product outstand use de...</td>\n",
       "    </tr>\n",
       "  </tbody>\n",
       "</table>\n",
       "</div>"
      ],
      "text/plain": [
       "        Score       Time                       CleanedSummary  \\\n",
       "89279       1  944092800                  entertainingl funny   \n",
       "99092       1  944438400                modern day fairy tale   \n",
       "21840       0  948240000     clamshell edition edited version   \n",
       "114632      1  951523200  bettlejuice bettlejuice bettlejuice   \n",
       "113134      1  961718400                        great product   \n",
       "\n",
       "                                              CleanedText  \n",
       "89279   beetlejuic well written movi everyth excel act...  \n",
       "99092   twist rumplestiskin captur film star michael k...  \n",
       "21840   alway enjoy movi funni entertain didnt hesit p...  \n",
       "114632  happen say name three time michael keaten star...  \n",
       "113134  realli good idea final product outstand use de...  "
      ]
     },
     "execution_count": 7,
     "metadata": {},
     "output_type": "execute_result"
    }
   ],
   "source": [
    "data.head()"
   ]
  },
  {
   "cell_type": "markdown",
   "metadata": {},
   "source": [
    "**Binary BOW model on review text**"
   ]
  },
  {
   "cell_type": "code",
   "execution_count": 8,
   "metadata": {
    "collapsed": true
   },
   "outputs": [],
   "source": [
    "bow_vect=CountVectorizer(binary=True) #initializing the binary countvectorizer \n",
    "bow=bow_vect.fit_transform(data['CleanedText'].values)"
   ]
  },
  {
   "cell_type": "code",
   "execution_count": 9,
   "metadata": {
    "collapsed": true
   },
   "outputs": [],
   "source": [
    "x=bow  #if x is sparse matricsthan do not convert it into numpy array\n",
    "y=data['Score'].values"
   ]
  },
  {
   "cell_type": "code",
   "execution_count": 10,
   "metadata": {
    "collapsed": true
   },
   "outputs": [],
   "source": [
    "#train test split \n",
    "x_train,x_test,y_train,y_test=train_test_split(x,y,test_size=0.3,shuffle=False)"
   ]
  },
  {
   "cell_type": "markdown",
   "metadata": {},
   "source": [
    "* Code to perform k fold"
   ]
  },
  {
   "cell_type": "code",
   "execution_count": 13,
   "metadata": {},
   "outputs": [
    {
     "name": "stdout",
     "output_type": "stream",
     "text": [
      "the optimal value of alpha is 0.400000\n"
     ]
    },
    {
     "data": {
      "image/png": "[encoded data removed]",
      "text/plain": [
       "<matplotlib.figure.Figure at 0x2dc51002828>"
      ]
     },
     "metadata": {},
     "output_type": "display_data"
    }
   ],
   "source": [
    "alpha=np.linspace(0.1,1,10)\n",
    "cv_scores=[]\n",
    "\n",
    "for a in alpha:\n",
    "    clf=BernoulliNB(alpha=a)\n",
    "    score=cross_val_score(clf,x_train,y_train,cv=10,scoring='accuracy') #Hyper parameter -CV\n",
    "    cv_scores.append(score.mean())\n",
    "    \n",
    "MSE=[1-x for x in cv_scores]\n",
    "\n",
    "optimal_alpha=alpha[MSE.index(min(MSE))]\n",
    "print('the optimal value of alpha is %f' % optimal_alpha)\n",
    "plt.plot(alpha,MSE)\n",
    "plt.xlabel('no. of alpha')\n",
    "plt.ylabel('misclassification error')\n",
    "plt.show()"
   ]
  },
  {
   "cell_type": "code",
   "execution_count": 16,
   "metadata": {},
   "outputs": [
    {
     "name": "stdout",
     "output_type": "stream",
     "text": [
      "83.6704610597\n"
     ]
    },
    {
     "data": {
      "text/plain": [
       "array([[14623,  2343],\n",
       "       [ 3639, 16028]], dtype=int64)"
      ]
     },
     "execution_count": 16,
     "metadata": {},
     "output_type": "execute_result"
    }
   ],
   "source": [
    "#fitting the model on optimal value of k\n",
    "clf=BernoulliNB(alpha=optimal_alpha)\n",
    "clf.fit(x_train,y_train)\n",
    "y_pred=clf.predict(x_test) #generating prediction\n",
    "acc=accuracy_score(y_test,y_pred,normalize=True)*float(100)\n",
    "print(acc)\n",
    "confusion_matrix(y_test,y_pred).T"
   ]
  },
  {
   "cell_type": "markdown",
   "metadata": {},
   "source": [
    "* Extracting imp. features of both the classes from the model"
   ]
  },
  {
   "cell_type": "code",
   "execution_count": 21,
   "metadata": {},
   "outputs": [
    {
     "name": "stdout",
     "output_type": "stream",
     "text": [
      "top 50 words in negative reviews\n",
      "not\n",
      "tast\n",
      "like\n",
      "product\n",
      "one\n",
      "would\n",
      "tri\n",
      "flavor\n",
      "good\n",
      "buy\n",
      "get\n",
      "use\n",
      "dont\n",
      "even\n",
      "order\n",
      "much\n",
      "make\n",
      "realli\n",
      "time\n",
      "amazon\n",
      "love\n",
      "look\n",
      "eat\n",
      "box\n",
      "disappoint\n",
      "bought\n",
      "food\n",
      "purchas\n",
      "review\n",
      "first\n",
      "better\n",
      "packag\n",
      "want\n",
      "bad\n",
      "think\n",
      "coffe\n",
      "also\n",
      "bag\n",
      "could\n",
      "know\n",
      "say\n",
      "well\n",
      "great\n",
      "didnt\n",
      "thought\n",
      "price\n",
      "give\n",
      "made\n",
      "way\n",
      "got\n",
      "\n",
      "**********************************************\n",
      "\n",
      "top 50 words in positive reviews\n",
      "not\n",
      "like\n",
      "tast\n",
      "love\n",
      "good\n",
      "great\n",
      "flavor\n",
      "one\n",
      "use\n",
      "tri\n",
      "product\n",
      "make\n",
      "get\n",
      "time\n",
      "buy\n",
      "would\n",
      "realli\n",
      "amazon\n",
      "find\n",
      "best\n",
      "also\n",
      "much\n",
      "price\n",
      "eat\n",
      "littl\n",
      "dont\n",
      "store\n",
      "well\n",
      "order\n",
      "food\n",
      "even\n",
      "coffe\n",
      "ive\n",
      "better\n",
      "recommend\n",
      "year\n",
      "tea\n",
      "day\n",
      "found\n",
      "high\n",
      "drink\n",
      "sweet\n",
      "mix\n",
      "bag\n",
      "give\n",
      "delici\n",
      "first\n",
      "enjoy\n",
      "want\n",
      "favorit\n"
     ]
    }
   ],
   "source": [
    "idx=(-clf.feature_log_prob_).argsort()[:2,:50]\n",
    "print('top 50 words in negative reviews')\n",
    "for i in idx[0]:\n",
    "    print(bow_vect.get_feature_names()[i])\n",
    "    \n",
    "print(\"\\n**********************************************\\n\")\n",
    "print(\"top 50 words in positive reviews\")\n",
    "for i in idx[1]:\n",
    "    print(bow_vect.get_feature_names()[i])"
   ]
  },
  {
   "cell_type": "code",
   "execution_count": null,
   "metadata": {
    "collapsed": true
   },
   "outputs": [],
   "source": []
  }
 ],
 "metadata": {
  "kernelspec": {
   "display_name": "Python 3",
   "language": "python",
   "name": "python3"
  },
  "language_info": {
   "codemirror_mode": {
    "name": "ipython",
    "version": 3
   },
   "file_extension": ".py",
   "mimetype": "text/x-python",
   "name": "python",
   "nbconvert_exporter": "python",
   "pygments_lexer": "ipython3",
   "version": "3.6.3"
  }
 },
 "nbformat": 4,
 "nbformat_minor": 2
}
