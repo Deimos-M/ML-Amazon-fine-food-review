{
 "cells": [
  {
   "cell_type": "code",
   "execution_count": 6,
   "metadata": {
    "collapsed": true
   },
   "outputs": [],
   "source": [
    "#importing the required libraries\n",
    "import numpy as np\n",
    "import pandas as pd\n",
    "import matplotlib.pyplot as plt\n",
    "import seaborn as sns\n",
    "%matplotlib inline\n",
    "\n",
    "import sqlite3\n",
    "import pickle\n",
    "\n",
    "from sklearn.manifold import TSNE\n",
    "import gensim\n",
    "\n",
    "from sklearn.preprocessing import StandardScaler\n",
    "from sklearn.model_selection import train_test_split# for shufflr = false\n",
    "from sklearn.model_selection import cross_val_score\n",
    "from sklearn.neighbors import KNeighborsClassifier\n",
    "from matplotlib.colors import ListedColormap\n",
    "from sklearn.metrics import accuracy_score\n",
    "from sklearn.metrics import confusion_matrix"
   ]
  },
  {
   "cell_type": "code",
   "execution_count": 9,
   "metadata": {},
   "outputs": [
    {
     "data": {
      "text/html": [
       "<div>\n",
       "<style>\n",
       "    .dataframe thead tr:only-child th {\n",
       "        text-align: right;\n",
       "    }\n",
       "\n",
       "    .dataframe thead th {\n",
       "        text-align: left;\n",
       "    }\n",
       "\n",
       "    .dataframe tbody tr th {\n",
       "        vertical-align: top;\n",
       "    }\n",
       "</style>\n",
       "<table border=\"1\" class=\"dataframe\">\n",
       "  <thead>\n",
       "    <tr style=\"text-align: right;\">\n",
       "      <th></th>\n",
       "      <th>index</th>\n",
       "      <th>Id</th>\n",
       "      <th>ProductId</th>\n",
       "      <th>UserId</th>\n",
       "      <th>ProfileName</th>\n",
       "      <th>HelpfulnessNumerator</th>\n",
       "      <th>HelpfulnessDenominator</th>\n",
       "      <th>Score</th>\n",
       "      <th>Time</th>\n",
       "      <th>Summary</th>\n",
       "      <th>Text</th>\n",
       "      <th>cleaned_text</th>\n",
       "      <th>cleaned_text_nonstem</th>\n",
       "      <th>cleaned_summ_nonstem</th>\n",
       "    </tr>\n",
       "  </thead>\n",
       "  <tbody>\n",
       "    <tr>\n",
       "      <th>0</th>\n",
       "      <td>158339</td>\n",
       "      <td>171676</td>\n",
       "      <td>B000PVVG3O</td>\n",
       "      <td>A2Z6GD6SGCJQYZ</td>\n",
       "      <td>J. Hruby</td>\n",
       "      <td>0</td>\n",
       "      <td>0</td>\n",
       "      <td>1</td>\n",
       "      <td>1331164800</td>\n",
       "      <td>Great stuff for hiking/backpacking! Here's a r...</td>\n",
       "      <td>For backpacking, using the \"Pack it in, pack i...</td>\n",
       "      <td>backpack use pack pack leav trace frame mind a...</td>\n",
       "      <td>backpacking using pack pack leave trace frames...</td>\n",
       "      <td>great stuff hiking backpacking heres recipe</td>\n",
       "    </tr>\n",
       "    <tr>\n",
       "      <th>1</th>\n",
       "      <td>154483</td>\n",
       "      <td>167502</td>\n",
       "      <td>B001RDOVKE</td>\n",
       "      <td>A1ISRCMLBVFPA0</td>\n",
       "      <td>Bill Nesbit</td>\n",
       "      <td>4</td>\n",
       "      <td>4</td>\n",
       "      <td>1</td>\n",
       "      <td>1288310400</td>\n",
       "      <td>What a Treat!!</td>\n",
       "      <td>I was pleasantly surprised at how wonderful th...</td>\n",
       "      <td>pleasant surpris wonder quit honest best turtl...</td>\n",
       "      <td>pleasantly surprised wonderful quite honestly ...</td>\n",
       "      <td>treat</td>\n",
       "    </tr>\n",
       "    <tr>\n",
       "      <th>2</th>\n",
       "      <td>94670</td>\n",
       "      <td>102898</td>\n",
       "      <td>B000HZIB9A</td>\n",
       "      <td>A59HMW5T6TP</td>\n",
       "      <td>Angela A. Hooper</td>\n",
       "      <td>1</td>\n",
       "      <td>1</td>\n",
       "      <td>1</td>\n",
       "      <td>1206576000</td>\n",
       "      <td>Awesome Marinade!!!!!</td>\n",
       "      <td>This is the best marinade ever to put on chick...</td>\n",
       "      <td>best marinad ever put chicken unfortun absolut...</td>\n",
       "      <td>best marinade ever put chicken unfortunately a...</td>\n",
       "      <td>awesome marinade</td>\n",
       "    </tr>\n",
       "    <tr>\n",
       "      <th>3</th>\n",
       "      <td>343872</td>\n",
       "      <td>371996</td>\n",
       "      <td>B003LVWCTW</td>\n",
       "      <td>A13M50YKJGDVBG</td>\n",
       "      <td>S. Glosson \"eyesgreen52\"</td>\n",
       "      <td>0</td>\n",
       "      <td>0</td>\n",
       "      <td>1</td>\n",
       "      <td>1322179200</td>\n",
       "      <td>Warm Comfort food</td>\n",
       "      <td>Excellent and you can use chicken broth and ro...</td>\n",
       "      <td>excel use chicken broth rossiteri chicken inst...</td>\n",
       "      <td>excellent use chicken broth rossiterie chicken...</td>\n",
       "      <td>warm comfort food</td>\n",
       "    </tr>\n",
       "    <tr>\n",
       "      <th>4</th>\n",
       "      <td>163030</td>\n",
       "      <td>176755</td>\n",
       "      <td>B000YFDON6</td>\n",
       "      <td>A2GAI61W3WHRJY</td>\n",
       "      <td>C. G. Royal</td>\n",
       "      <td>2</td>\n",
       "      <td>3</td>\n",
       "      <td>1</td>\n",
       "      <td>1217376000</td>\n",
       "      <td>gum</td>\n",
       "      <td>Product arrived very quickly.  Nice job.  this...</td>\n",
       "      <td>product arriv quick nice job best cinnamon gum...</td>\n",
       "      <td>product arrived quickly nice job best cinnamon...</td>\n",
       "      <td>gum</td>\n",
       "    </tr>\n",
       "  </tbody>\n",
       "</table>\n",
       "</div>"
      ],
      "text/plain": [
       "    index      Id   ProductId          UserId               ProfileName  \\\n",
       "0  158339  171676  B000PVVG3O  A2Z6GD6SGCJQYZ                  J. Hruby   \n",
       "1  154483  167502  B001RDOVKE  A1ISRCMLBVFPA0               Bill Nesbit   \n",
       "2   94670  102898  B000HZIB9A     A59HMW5T6TP          Angela A. Hooper   \n",
       "3  343872  371996  B003LVWCTW  A13M50YKJGDVBG  S. Glosson \"eyesgreen52\"   \n",
       "4  163030  176755  B000YFDON6  A2GAI61W3WHRJY               C. G. Royal   \n",
       "\n",
       "   HelpfulnessNumerator  HelpfulnessDenominator  Score        Time  \\\n",
       "0                     0                       0      1  1331164800   \n",
       "1                     4                       4      1  1288310400   \n",
       "2                     1                       1      1  1206576000   \n",
       "3                     0                       0      1  1322179200   \n",
       "4                     2                       3      1  1217376000   \n",
       "\n",
       "                                             Summary  \\\n",
       "0  Great stuff for hiking/backpacking! Here's a r...   \n",
       "1                                     What a Treat!!   \n",
       "2                              Awesome Marinade!!!!!   \n",
       "3                                  Warm Comfort food   \n",
       "4                                                gum   \n",
       "\n",
       "                                                Text  \\\n",
       "0  For backpacking, using the \"Pack it in, pack i...   \n",
       "1  I was pleasantly surprised at how wonderful th...   \n",
       "2  This is the best marinade ever to put on chick...   \n",
       "3  Excellent and you can use chicken broth and ro...   \n",
       "4  Product arrived very quickly.  Nice job.  this...   \n",
       "\n",
       "                                        cleaned_text  \\\n",
       "0  backpack use pack pack leav trace frame mind a...   \n",
       "1  pleasant surpris wonder quit honest best turtl...   \n",
       "2  best marinad ever put chicken unfortun absolut...   \n",
       "3  excel use chicken broth rossiteri chicken inst...   \n",
       "4  product arriv quick nice job best cinnamon gum...   \n",
       "\n",
       "                                cleaned_text_nonstem  \\\n",
       "0  backpacking using pack pack leave trace frames...   \n",
       "1  pleasantly surprised wonderful quite honestly ...   \n",
       "2  best marinade ever put chicken unfortunately a...   \n",
       "3  excellent use chicken broth rossiterie chicken...   \n",
       "4  product arrived quickly nice job best cinnamon...   \n",
       "\n",
       "                          cleaned_summ_nonstem  \n",
       "0  great stuff hiking backpacking heres recipe  \n",
       "1                                        treat  \n",
       "2                             awesome marinade  \n",
       "3                            warm comfort food  \n",
       "4                                          gum  "
      ]
     },
     "execution_count": 9,
     "metadata": {},
     "output_type": "execute_result"
    }
   ],
   "source": [
    "#read the dataset\n",
    "conn=sqlite3.connect('final.sqlite')\n",
    "final=pd.read_sql_query(\"\"\"select * from Reviews\"\"\",conn)\n",
    "conn.close()\n",
    "final.head()"
   ]
  },
  {
   "cell_type": "code",
   "execution_count": 4,
   "metadata": {
    "collapsed": true
   },
   "outputs": [],
   "source": [
    "#list of sent pickle file\n",
    "with open('list_of_sent_for_input_to_w2v.pkl', 'rb') as pickle_file:\n",
    "    list_of_sent = pickle.load(pickle_file)"
   ]
  },
  {
   "cell_type": "code",
   "execution_count": 5,
   "metadata": {
    "collapsed": true
   },
   "outputs": [],
   "source": [
    "#google W2V file\n",
    "with open('google_word2vec_model.txt', 'rb') as pickle_file:\n",
    "    google_w2v = pickle.load(pickle_file)"
   ]
  },
  {
   "cell_type": "code",
   "execution_count": 12,
   "metadata": {},
   "outputs": [
    {
     "data": {
      "text/plain": [
       "dict"
      ]
     },
     "execution_count": 12,
     "metadata": {},
     "output_type": "execute_result"
    }
   ],
   "source": [
    "type(google_w2v)"
   ]
  },
  {
   "cell_type": "markdown",
   "metadata": {},
   "source": [
    "* function to find sent vectors"
   ]
  },
  {
   "cell_type": "code",
   "execution_count": 6,
   "metadata": {
    "collapsed": true
   },
   "outputs": [],
   "source": [
    "def calc_w2v(list_of_sent, w2v_model):\n",
    "    '''This function takes in 2 parameters as follows:\n",
    "       1. list_of_sent - This is the list of sentences/reviews for which sentence vetors are to be constructed\n",
    "       2. w2v_model - This is the Word2Vec model which is trained on the working corpus - contains the word vectors\n",
    "       \n",
    "       Return Value:\n",
    "       sent_vectors - This is a list of sentence/review vectors constructed by averaging the word vectors\n",
    "    '''\n",
    "    \n",
    "    ## Initialize an empty list\n",
    "    sent_vectors = []\n",
    "    ## Consider one sentence/review at a time\n",
    "    for sent in list_of_sent:\n",
    "        ## Initialize sentence vector to 0\n",
    "        sent_vec = np.zeros(300)\n",
    "        ## Initialize count of words to 0\n",
    "        cnt_words = 0\n",
    "        ## Consider the words one by one\n",
    "        for word in sent:\n",
    "            try:\n",
    "                ## Calculate the word vector using the W2V model\n",
    "                vec = w2v_model[word]\n",
    "                ## Add the word vector to the sentence vector (This is the numerator)\n",
    "                sent_vec += vec\n",
    "                ## Sum all the word counts (This is the denominator)\n",
    "                cnt_words += 1\n",
    "            except:\n",
    "                pass\n",
    "        ## Divide the numerator by the denominator to get the sentence vector\n",
    "        sent_vec /= cnt_words\n",
    "        ## Add the sentence vector in the final list\n",
    "        sent_vectors.append(sent_vec)\n",
    "    ## return the list of all the sentence vectors\n",
    "    return sent_vectors"
   ]
  },
  {
   "cell_type": "code",
   "execution_count": 7,
   "metadata": {},
   "outputs": [
    {
     "name": "stderr",
     "output_type": "stream",
     "text": [
      "C:\\Users\\vipul\\Anaconda3\\lib\\site-packages\\ipykernel_launcher.py:13: RuntimeWarning: invalid value encountered in true_divide\n",
      "  del sys.path[0]\n"
     ]
    }
   ],
   "source": [
    "sent_vectors=calc_w2v(list_of_sent,google_w2v)"
   ]
  },
  {
   "cell_type": "code",
   "execution_count": 8,
   "metadata": {
    "collapsed": true
   },
   "outputs": [],
   "source": [
    "#saving the sent_vectors into pickle file\n",
    "with open('avg_w2v.pkl','wb') as pickle_file:\n",
    "    pickle.dump(sent_vectors,pickle_file)"
   ]
  },
  {
   "cell_type": "code",
   "execution_count": 10,
   "metadata": {
    "collapsed": true
   },
   "outputs": [],
   "source": [
    "#opening pickle file of sent vectors\n",
    "with open('avg_w2v.pkl','rb') as pickle_file:\n",
    "    sent_vectors = pickle.load(pickle_file)"
   ]
  },
  {
   "cell_type": "code",
   "execution_count": 11,
   "metadata": {},
   "outputs": [
    {
     "data": {
      "text/plain": [
       "list"
      ]
     },
     "execution_count": 11,
     "metadata": {},
     "output_type": "execute_result"
    }
   ],
   "source": [
    "type(sent_vectors)"
   ]
  },
  {
   "cell_type": "code",
   "execution_count": 12,
   "metadata": {
    "collapsed": true
   },
   "outputs": [],
   "source": [
    "x=np.array(sent_vectors)\n",
    "df=pd.DataFrame(x) #creating a dataframe of sentvectors"
   ]
  },
  {
   "cell_type": "code",
   "execution_count": 13,
   "metadata": {
    "collapsed": true
   },
   "outputs": [],
   "source": [
    "df['time']=final['Time'].iloc[:30000] #sampling the dataset\n",
    "df['score']=final['Score'].iloc[:30000]"
   ]
  },
  {
   "cell_type": "code",
   "execution_count": 14,
   "metadata": {
    "collapsed": true
   },
   "outputs": [],
   "source": [
    "df=df.dropna(axis =0 ) #removing all those rows which contains null values"
   ]
  },
  {
   "cell_type": "code",
   "execution_count": 15,
   "metadata": {},
   "outputs": [
    {
     "name": "stdout",
     "output_type": "stream",
     "text": [
      "(29999, 302)\n"
     ]
    },
    {
     "data": {
      "text/html": [
       "<div>\n",
       "<style>\n",
       "    .dataframe thead tr:only-child th {\n",
       "        text-align: right;\n",
       "    }\n",
       "\n",
       "    .dataframe thead th {\n",
       "        text-align: left;\n",
       "    }\n",
       "\n",
       "    .dataframe tbody tr th {\n",
       "        vertical-align: top;\n",
       "    }\n",
       "</style>\n",
       "<table border=\"1\" class=\"dataframe\">\n",
       "  <thead>\n",
       "    <tr style=\"text-align: right;\">\n",
       "      <th></th>\n",
       "      <th>0</th>\n",
       "      <th>1</th>\n",
       "      <th>2</th>\n",
       "      <th>3</th>\n",
       "      <th>4</th>\n",
       "      <th>5</th>\n",
       "      <th>6</th>\n",
       "      <th>7</th>\n",
       "      <th>8</th>\n",
       "      <th>9</th>\n",
       "      <th>...</th>\n",
       "      <th>292</th>\n",
       "      <th>293</th>\n",
       "      <th>294</th>\n",
       "      <th>295</th>\n",
       "      <th>296</th>\n",
       "      <th>297</th>\n",
       "      <th>298</th>\n",
       "      <th>299</th>\n",
       "      <th>time</th>\n",
       "      <th>score</th>\n",
       "    </tr>\n",
       "  </thead>\n",
       "  <tbody>\n",
       "    <tr>\n",
       "      <th>8085</th>\n",
       "      <td>0.026636</td>\n",
       "      <td>0.020126</td>\n",
       "      <td>-0.100281</td>\n",
       "      <td>0.082568</td>\n",
       "      <td>-0.080322</td>\n",
       "      <td>0.032446</td>\n",
       "      <td>0.111238</td>\n",
       "      <td>-0.064941</td>\n",
       "      <td>-0.004712</td>\n",
       "      <td>0.031787</td>\n",
       "      <td>...</td>\n",
       "      <td>-0.117480</td>\n",
       "      <td>0.041696</td>\n",
       "      <td>-0.019724</td>\n",
       "      <td>-0.000677</td>\n",
       "      <td>0.054999</td>\n",
       "      <td>-0.003418</td>\n",
       "      <td>-0.005280</td>\n",
       "      <td>-0.034076</td>\n",
       "      <td>9.440928e+08</td>\n",
       "      <td>1.0</td>\n",
       "    </tr>\n",
       "    <tr>\n",
       "      <th>7848</th>\n",
       "      <td>0.035762</td>\n",
       "      <td>-0.018346</td>\n",
       "      <td>0.014519</td>\n",
       "      <td>0.096415</td>\n",
       "      <td>-0.047579</td>\n",
       "      <td>0.013077</td>\n",
       "      <td>0.025580</td>\n",
       "      <td>-0.042450</td>\n",
       "      <td>0.081202</td>\n",
       "      <td>0.038269</td>\n",
       "      <td>...</td>\n",
       "      <td>-0.087121</td>\n",
       "      <td>-0.020732</td>\n",
       "      <td>-0.072937</td>\n",
       "      <td>-0.077292</td>\n",
       "      <td>0.015155</td>\n",
       "      <td>-0.045308</td>\n",
       "      <td>0.004209</td>\n",
       "      <td>-0.009718</td>\n",
       "      <td>1.014163e+09</td>\n",
       "      <td>1.0</td>\n",
       "    </tr>\n",
       "    <tr>\n",
       "      <th>14778</th>\n",
       "      <td>0.025155</td>\n",
       "      <td>0.032939</td>\n",
       "      <td>-0.018029</td>\n",
       "      <td>0.070336</td>\n",
       "      <td>-0.002390</td>\n",
       "      <td>-0.016184</td>\n",
       "      <td>0.021255</td>\n",
       "      <td>-0.089542</td>\n",
       "      <td>0.044086</td>\n",
       "      <td>0.068181</td>\n",
       "      <td>...</td>\n",
       "      <td>-0.056333</td>\n",
       "      <td>0.005591</td>\n",
       "      <td>-0.033571</td>\n",
       "      <td>-0.033758</td>\n",
       "      <td>0.003559</td>\n",
       "      <td>-0.043300</td>\n",
       "      <td>-0.011321</td>\n",
       "      <td>-0.004432</td>\n",
       "      <td>1.015546e+09</td>\n",
       "      <td>1.0</td>\n",
       "    </tr>\n",
       "    <tr>\n",
       "      <th>15230</th>\n",
       "      <td>0.015671</td>\n",
       "      <td>0.011968</td>\n",
       "      <td>0.012809</td>\n",
       "      <td>0.063908</td>\n",
       "      <td>-0.002440</td>\n",
       "      <td>0.020823</td>\n",
       "      <td>0.046337</td>\n",
       "      <td>-0.084791</td>\n",
       "      <td>0.037766</td>\n",
       "      <td>0.097527</td>\n",
       "      <td>...</td>\n",
       "      <td>-0.141511</td>\n",
       "      <td>-0.007959</td>\n",
       "      <td>-0.057002</td>\n",
       "      <td>-0.053705</td>\n",
       "      <td>0.054711</td>\n",
       "      <td>-0.065715</td>\n",
       "      <td>0.023933</td>\n",
       "      <td>-0.017054</td>\n",
       "      <td>1.022112e+09</td>\n",
       "      <td>1.0</td>\n",
       "    </tr>\n",
       "    <tr>\n",
       "      <th>18325</th>\n",
       "      <td>0.024051</td>\n",
       "      <td>-0.004985</td>\n",
       "      <td>-0.029165</td>\n",
       "      <td>0.154642</td>\n",
       "      <td>-0.004866</td>\n",
       "      <td>0.010529</td>\n",
       "      <td>0.016232</td>\n",
       "      <td>-0.078159</td>\n",
       "      <td>0.062291</td>\n",
       "      <td>0.064997</td>\n",
       "      <td>...</td>\n",
       "      <td>-0.120103</td>\n",
       "      <td>-0.007267</td>\n",
       "      <td>-0.002536</td>\n",
       "      <td>-0.048984</td>\n",
       "      <td>0.028034</td>\n",
       "      <td>-0.030596</td>\n",
       "      <td>0.021179</td>\n",
       "      <td>0.006236</td>\n",
       "      <td>1.025482e+09</td>\n",
       "      <td>1.0</td>\n",
       "    </tr>\n",
       "  </tbody>\n",
       "</table>\n",
       "<p>5 rows × 302 columns</p>\n",
       "</div>"
      ],
      "text/plain": [
       "              0         1         2         3         4         5         6  \\\n",
       "8085   0.026636  0.020126 -0.100281  0.082568 -0.080322  0.032446  0.111238   \n",
       "7848   0.035762 -0.018346  0.014519  0.096415 -0.047579  0.013077  0.025580   \n",
       "14778  0.025155  0.032939 -0.018029  0.070336 -0.002390 -0.016184  0.021255   \n",
       "15230  0.015671  0.011968  0.012809  0.063908 -0.002440  0.020823  0.046337   \n",
       "18325  0.024051 -0.004985 -0.029165  0.154642 -0.004866  0.010529  0.016232   \n",
       "\n",
       "              7         8         9  ...         292       293       294  \\\n",
       "8085  -0.064941 -0.004712  0.031787  ...   -0.117480  0.041696 -0.019724   \n",
       "7848  -0.042450  0.081202  0.038269  ...   -0.087121 -0.020732 -0.072937   \n",
       "14778 -0.089542  0.044086  0.068181  ...   -0.056333  0.005591 -0.033571   \n",
       "15230 -0.084791  0.037766  0.097527  ...   -0.141511 -0.007959 -0.057002   \n",
       "18325 -0.078159  0.062291  0.064997  ...   -0.120103 -0.007267 -0.002536   \n",
       "\n",
       "            295       296       297       298       299          time  score  \n",
       "8085  -0.000677  0.054999 -0.003418 -0.005280 -0.034076  9.440928e+08    1.0  \n",
       "7848  -0.077292  0.015155 -0.045308  0.004209 -0.009718  1.014163e+09    1.0  \n",
       "14778 -0.033758  0.003559 -0.043300 -0.011321 -0.004432  1.015546e+09    1.0  \n",
       "15230 -0.053705  0.054711 -0.065715  0.023933 -0.017054  1.022112e+09    1.0  \n",
       "18325 -0.048984  0.028034 -0.030596  0.021179  0.006236  1.025482e+09    1.0  \n",
       "\n",
       "[5 rows x 302 columns]"
      ]
     },
     "execution_count": 15,
     "metadata": {},
     "output_type": "execute_result"
    }
   ],
   "source": [
    "df=df.sort_values(['time']) #sorting on time\n",
    "print(df.shape)\n",
    "df.head()"
   ]
  },
  {
   "cell_type": "code",
   "execution_count": 16,
   "metadata": {},
   "outputs": [
    {
     "name": "stdout",
     "output_type": "stream",
     "text": [
      "<class 'numpy.ndarray'>\n"
     ]
    },
    {
     "data": {
      "text/plain": [
       "numpy.ndarray"
      ]
     },
     "execution_count": 16,
     "metadata": {},
     "output_type": "execute_result"
    }
   ],
   "source": [
    "x=df.iloc[:,:300].values #considering only first 300 features\n",
    "print(type(x))\n",
    "y=df['score'].values\n",
    "type(y)"
   ]
  },
  {
   "cell_type": "code",
   "execution_count": 17,
   "metadata": {},
   "outputs": [
    {
     "data": {
      "text/plain": [
       "array([[ 0.44478113, -0.43810809, -2.44299113, ...,  0.36107542,\n",
       "        -0.89602902, -0.69066428],\n",
       "       [ 0.68642813, -1.4540854 ,  0.52434386, ..., -0.66236256,\n",
       "        -0.64302423, -0.05841649],\n",
       "       [ 0.40558461, -0.09974699, -0.31695931, ..., -0.61329256,\n",
       "        -1.05712918,  0.07878012],\n",
       "       [ 0.15443302, -0.65354281,  0.48015774, ..., -1.16092899,\n",
       "        -0.11707808, -0.24883401],\n",
       "       [ 0.37634713, -1.10124109, -0.60479797, ..., -0.30290953,\n",
       "        -0.19051796,  0.35569874]])"
      ]
     },
     "execution_count": 17,
     "metadata": {},
     "output_type": "execute_result"
    }
   ],
   "source": [
    "s=StandardScaler()\n",
    "x=s.fit_transform(x)\n",
    "x[:5,:]"
   ]
  },
  {
   "cell_type": "code",
   "execution_count": null,
   "metadata": {},
   "outputs": [],
   "source": [
    "#train-test split\n",
    "x_train,x_test,y_train,y_test=train_test_split(x,y,test_size=0.35,shuffle =False) #false since it is time series data"
   ]
  },
  {
   "cell_type": "markdown",
   "metadata": {},
   "source": [
    "* Code to perform k fold"
   ]
  },
  {
   "cell_type": "code",
   "execution_count": 19,
   "metadata": {},
   "outputs": [
    {
     "name": "stdout",
     "output_type": "stream",
     "text": [
      "the optimal value of k is 11\n"
     ]
    },
    {
     "data": {
      "image/png": "[encoded data removed]",
      "text/plain": [
       "<matplotlib.figure.Figure at 0x1ca69f3aac8>"
      ]
     },
     "metadata": {},
     "output_type": "display_data"
    }
   ],
   "source": [
    "neighbors=list(range(1,21,2))\n",
    "cv_scores=[]\n",
    "\n",
    "for k in neighbors:\n",
    "    knn=KNeighborsClassifier(n_neighbors=k)\n",
    "    score=cross_val_score(knn,x_train,y_train,cv=5,scoring='accuracy') #Hyper parameter -CV\n",
    "    cv_scores.append(score.mean())\n",
    "    \n",
    "MSE=[1-x for x in cv_scores]\n",
    "\n",
    "optimal_k=neighbors[MSE.index(min(MSE))]\n",
    "print('the optimal value of k is %d' % optimal_k)\n",
    "plt.plot(neighbors,MSE)\n",
    "plt.xlabel('no. of neighbors')\n",
    "plt.ylabel('misclassification error')\n",
    "plt.show()"
   ]
  },
  {
   "cell_type": "code",
   "execution_count": 20,
   "metadata": {},
   "outputs": [
    {
     "data": {
      "text/plain": [
       "KNeighborsClassifier(algorithm='auto', leaf_size=30, metric='minkowski',\n",
       "           metric_params=None, n_jobs=1, n_neighbors=11, p=2,\n",
       "           weights='uniform')"
      ]
     },
     "execution_count": 20,
     "metadata": {},
     "output_type": "execute_result"
    }
   ],
   "source": [
    "#fitting the model on optimal value of k\n",
    "classifier = KNeighborsClassifier(n_neighbors = optimal_k)\n",
    "classifier.fit(x_train, y_train)"
   ]
  },
  {
   "cell_type": "code",
   "execution_count": 21,
   "metadata": {
    "collapsed": true
   },
   "outputs": [],
   "source": [
    "#generating prediction\n",
    "y_pred = classifier.predict(x_test) "
   ]
  },
  {
   "cell_type": "code",
   "execution_count": 22,
   "metadata": {},
   "outputs": [
    {
     "data": {
      "text/plain": [
       "83.142857142857139"
      ]
     },
     "execution_count": 22,
     "metadata": {},
     "output_type": "execute_result"
    }
   ],
   "source": [
    "acc = accuracy_score(y_test, y_pred, normalize=True) * float(100)\n",
    "acc"
   ]
  },
  {
   "cell_type": "code",
   "execution_count": 23,
   "metadata": {},
   "outputs": [
    {
     "name": "stdout",
     "output_type": "stream",
     "text": [
      "[[ 104   37]\n",
      " [1733 8626]]\n"
     ]
    }
   ],
   "source": [
    "results = confusion_matrix(y_test, y_pred).T\n",
    "print(results)"
   ]
  },
  {
   "cell_type": "code",
   "execution_count": null,
   "metadata": {
    "collapsed": true
   },
   "outputs": [],
   "source": []
  }
 ],
 "metadata": {
  "kernelspec": {
   "display_name": "Python 3",
   "language": "python",
   "name": "python3"
  },
  "language_info": {
   "codemirror_mode": {
    "name": "ipython",
    "version": 3
   },
   "file_extension": ".py",
   "mimetype": "text/x-python",
   "name": "python",
   "nbconvert_exporter": "python",
   "pygments_lexer": "ipython3",
   "version": "3.6.3"
  }
 },
 "nbformat": 4,
 "nbformat_minor": 2
}
